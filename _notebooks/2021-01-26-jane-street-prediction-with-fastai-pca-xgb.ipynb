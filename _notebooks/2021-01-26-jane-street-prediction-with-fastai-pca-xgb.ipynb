{
  "nbformat": 4,
  "nbformat_minor": 0,
  "metadata": {
    "kernelspec": {
      "name": "python3",
      "display_name": "Python 3",
      "language": "python"
    },
    "language_info": {
      "name": "python",
      "version": "3.7.6",
      "mimetype": "text/x-python",
      "codemirror_mode": {
        "name": "ipython",
        "version": 3
      },
      "pygments_lexer": "ipython3",
      "nbconvert_exporter": "python",
      "file_extension": ".py"
    },
    "colab": {
      "name": "26_01_2021_jane-street-prediction-with-fastai-pca-xgb.ipynb",
      "provenance": [],
      "collapsed_sections": []
    },
    "accelerator": "GPU"
  },
  "cells": [
    {
      "cell_type": "markdown",
      "metadata": {
        "id": "IeE2SMddJz1D"
      },
      "source": [
        "# Jane Street Prediction Competition with Fastai+PCA+XGBOOST\r\n",
        "\r\n",
        "\r\n",
        "> Jane Street Prediction Competition with Fastai+PCA+XGB \r\n",
        "\r\n",
        "\r\n",
        "- toc: true \r\n",
        "- badges: true\r\n",
        "- comments: true\r\n",
        "- description: Kaggle Jane Street Prediction Competition with Fastai + PCA and XGBOOST \r\n",
        "- author: Frederick Emile Bondzie-Arthur\r\n",
        "- categories: [fastai, kaggle]"
      ]
    },
    {
      "cell_type": "markdown",
      "metadata": {
        "id": "MAHgaUHRKe5j"
      },
      "source": [
        "This notebook ocntains my solution (submission not made yet due some challenges with my submission pipeline) to the [Kaggle's Jane Prediction Challenge](https://www.kaggle.com/c/jane-street-market-prediction). "
      ]
    },
    {
      "cell_type": "markdown",
      "metadata": {
        "id": "58Rw2GPjLKgL"
      },
      "source": [
        "## Introduction \r\n",
        "\r\n",
        "Jane Street Market Prediction is a competition organized by kaggle, which you build a model to predict financial market. This competition is a classification competition with the goal to predict an action of class 0 or 1.  \r\n",
        "\r\n",
        "More about the competition can be found in the link above.\r\n",
        "\r\n",
        "### Why THIS Competition\r\n",
        "Currently, I am Reading Jeremy Howard and Sylvain Gugger's  Deep Learning for Coders with Fastai and Pytorch book and to understand more about using NN to solve tabular challenges, I entered this challenge. \r\n",
        "\r\n",
        "Further, the rules of the competition that caught my attention, as your model is passed through 1M test dataset in 5 hours. This means your model should be optimzed, efficient and fast. \r\n",
        "\r\n",
        "### My Goal:\r\n",
        "My major goal in 2021 is to solve more data science problem and also ship codes in production and I believe participating in kaggle challenges will help me achieve that. \r\n",
        "\r\n",
        "\r\n",
        "To to waste your time let start. "
      ]
    },
    {
      "cell_type": "markdown",
      "metadata": {
        "id": "_CQR9VyqPN2R"
      },
      "source": [
        "## Installing libraries and downloading Datasets "
      ]
    },
    {
      "cell_type": "code",
      "metadata": {
        "id": "ubjj5maPbhfM"
      },
      "source": [
        "%%capture\r\n",
        "# installing libaries \r\n",
        "!pip install fastai==2.1.2 \r\n",
        "!pip install --upgrade fastai \r\n",
        "!pip install nbdev \r\n",
        "\r\n",
        "!pip install numba \r\n",
        "!pip install optuna \r\n",
        "!pip install xgboost\r\n",
        "!pip install kaggle \r\n",
        "\r\n",
        "import sys\r\n",
        "from fastai.tabular.all import * \r\n"
      ],
      "execution_count": 1,
      "outputs": []
    },
    {
      "cell_type": "code",
      "metadata": {
        "_uuid": "8f2839f25d086af736a60e9eeb907d3b93b6e0e5",
        "_cell_guid": "b1076dfc-b9ad-4769-8c92-a6c4dae69d19",
        "trusted": true,
        "id": "zGNE9PBCbgt2"
      },
      "source": [
        "import joblib\n",
        "\n",
        "import numpy as np \n",
        "import numpy.ma as ma\n",
        "from numba import njit\n",
        "\n",
        "import seaborn as sns\n",
        "import matplotlib\n",
        "matplotlib.rc('image', cmap='Greys')\n",
        "from IPython.display import Image, display_svg, SVG\n",
        "\n",
        "\n",
        "import time\n",
        "from tqdm.notebook import tqdm\n",
        "\n",
        "#import cudf # install cudf on google colab before running this. \n",
        "import pandas as pd \n",
        "from pandas.api.types import is_string_dtype, is_numeric_dtype, is_categorical_dtype\n",
        "pd.options.display.max_rows = 20\n",
        "pd.options.display.max_columns = 8\n",
        "\n",
        "\n",
        "from sklearn.metrics import accuracy_score \n",
        "from sklearn.metrics import confusion_matrix\n",
        "from sklearn.metrics import roc_auc_score\n",
        "from sklearn.metrics import roc_curve\n",
        "from sklearn.inspection import plot_partial_dependence\n",
        "from sklearn.decomposition import PCA\n",
        "from sklearn.model_selection import train_test_split\n",
        "from sklearn.preprocessing import StandardScaler\n",
        "\n",
        "\n",
        "import xgboost as xgb \n",
        "import optuna \n",
        "\n",
        "from fastai.tabular.all import *\n",
        "import torch.nn as nn \n",
        "import torch.nn.functional as F \n",
        "import torch.optim as optim \n",
        "import torch "
      ],
      "execution_count": 2,
      "outputs": []
    },
    {
      "cell_type": "markdown",
      "metadata": {
        "id": "CIyMyKCMQuzl"
      },
      "source": [
        "## Downloading datasets from Kagggle. \r\n",
        "\r\n",
        "Before running this make sure you have registered for kaggle, accepted the competition rules and also generated a key to access kaggle's API. "
      ]
    },
    {
      "cell_type": "code",
      "metadata": {
        "id": "Ys3yxerrQtcv"
      },
      "source": [
        "# xxx with your kaggle credentials kaggle credentials \r\n",
        "creds = '{\"username\":\"xxxxxxxx\",\"key\":\"xxxxxxxxxxxxx\"}'"
      ],
      "execution_count": null,
      "outputs": []
    },
    {
      "cell_type": "code",
      "metadata": {
        "id": "wokRDB_FRQ9z"
      },
      "source": [
        "cred_path = Path('~/.kaggle/kaggle.json').expanduser() \r\n",
        "if not cred_path.exists():\r\n",
        "    cred_path.parent.mkdir(exist_ok=True)\r\n",
        "    cred_path.write_text(creds) \r\n",
        "    cred_path.chmod(0o600)"
      ],
      "execution_count": null,
      "outputs": []
    },
    {
      "cell_type": "code",
      "metadata": {
        "id": "6tpOX_wQRRBN"
      },
      "source": [
        "from kaggle import api\r\n"
      ],
      "execution_count": null,
      "outputs": []
    },
    {
      "cell_type": "code",
      "metadata": {
        "id": "QAI_9mqbRREv"
      },
      "source": [
        "path = URLs.path('jane_street_prediction')\r\n",
        "print(path)\r\n",
        "Path.BASE_PATH = path "
      ],
      "execution_count": null,
      "outputs": []
    },
    {
      "cell_type": "code",
      "metadata": {
        "id": "hTjJD23cRhU4"
      },
      "source": [
        "# downloading datasets \r\n",
        "if not path.exists():\r\n",
        "    path.mkdir(parents=true)\r\n",
        "    api.competition_download_cli('jane-street-market-prediction',path=path)\r\n",
        "    file_extract(path/'jane-street-market-prediction.zip')\r\n",
        "\r\n",
        "path.ls(file_type='text')"
      ],
      "execution_count": null,
      "outputs": []
    },
    {
      "cell_type": "code",
      "metadata": {
        "id": "x1Ey49KkRhXo"
      },
      "source": [
        "!rm -rf /root/.fastai/archive/jane_street_prediction/jane-street-market-prediction.zip"
      ],
      "execution_count": null,
      "outputs": []
    },
    {
      "cell_type": "markdown",
      "metadata": {
        "id": "7sf-VYu2SWD0"
      },
      "source": [
        "## Loading Data and Preprocessing"
      ]
    },
    {
      "cell_type": "code",
      "metadata": {
        "trusted": true,
        "colab": {
          "base_uri": "https://localhost:8080/",
          "height": 72
        },
        "id": "INb0A4NYbgt9",
        "outputId": "0c809031-8fbd-4109-873c-43e2b2e70a48"
      },
      "source": [
        "# uncomment if you have installed cudf. \n",
        "\"\"\"\n",
        "%%time\n",
        "train_cudf  = cudf.read_csv(path/'train.csv', nrows=250000)\n",
        "df = train_cudf.to_pandas()\n",
        "del train_cudf\n",
        "features = pd.read_csv(path/'features.csv')\n",
        "example_test = pd.read_csv(path/'example_test.csv')\n",
        "sample_prediction_df = pd.read_csv(path/'example_sample_submission.csv')\n",
        "print (\"Data is loaded!\")\n",
        "\"\"\""
      ],
      "execution_count": 11,
      "outputs": [
        {
          "output_type": "execute_result",
          "data": {
            "application/vnd.google.colaboratory.intrinsic+json": {
              "type": "string"
            },
            "text/plain": [
              "'\\n%%time\\ntrain_cudf  = cudf.read_csv(path/\\'train.csv\\', nrows=250000)\\ndf = train_cudf.to_pandas()\\ndel train_cudf\\nfeatures = pd.read_csv(path/\\'features.csv\\')\\nexample_test = pd.read_csv(path/\\'example_test.csv\\')\\nsample_prediction_df = pd.read_csv(path/\\'example_sample_submission.csv\\')\\nprint (\"Data is loaded!\")\\n'"
            ]
          },
          "metadata": {
            "tags": []
          },
          "execution_count": 11
        }
      ]
    },
    {
      "cell_type": "code",
      "metadata": {
        "id": "DE1R-5E6Swu_"
      },
      "source": [
        "# Due to memory issue, we load a subset of the dataset. \r\n",
        "df  = pd.read_csv(path/'train.csv', nrows=200000)\r\n",
        "features = pd.read_csv(path/'features.csv')\r\n",
        "example_test = pd.read_csv(path/'example_test.csv')\r\n",
        "sample_prediction_df = pd.read_csv(path/'example_sample_submission.csv')\r\n"
      ],
      "execution_count": null,
      "outputs": []
    },
    {
      "cell_type": "code",
      "metadata": {
        "trusted": true,
        "colab": {
          "base_uri": "https://localhost:8080/"
        },
        "id": "1IkqzOnjbguA",
        "outputId": "ded2fc95-d555-483e-93de-7a0133b7859d"
      },
      "source": [
        "print('train shape is {}'.format(df.shape))\n",
        "print('features shape is {}'.format(features.shape))\n",
        "print('example_test shape is {}'.format(example_test.shape))\n",
        "print('sample_prediction_df shape is {}'.format(sample_prediction_df.shape))"
      ],
      "execution_count": 5,
      "outputs": [
        {
          "output_type": "stream",
          "text": [
            "train shape is (200000, 138)\n"
          ],
          "name": "stdout"
        }
      ]
    },
    {
      "cell_type": "code",
      "metadata": {
        "trusted": true,
        "colab": {
          "base_uri": "https://localhost:8080/",
          "height": 236
        },
        "id": "6iMi9304bguB",
        "outputId": "bd2fc11a-65e8-4433-9421-15a39a03188a"
      },
      "source": [
        "#  Loading Dataset \n",
        "df.head()"
      ],
      "execution_count": 6,
      "outputs": [
        {
          "output_type": "execute_result",
          "data": {
            "text/html": [
              "<div>\n",
              "<style scoped>\n",
              "    .dataframe tbody tr th:only-of-type {\n",
              "        vertical-align: middle;\n",
              "    }\n",
              "\n",
              "    .dataframe tbody tr th {\n",
              "        vertical-align: top;\n",
              "    }\n",
              "\n",
              "    .dataframe thead th {\n",
              "        text-align: right;\n",
              "    }\n",
              "</style>\n",
              "<table border=\"1\" class=\"dataframe\">\n",
              "  <thead>\n",
              "    <tr style=\"text-align: right;\">\n",
              "      <th></th>\n",
              "      <th>date</th>\n",
              "      <th>weight</th>\n",
              "      <th>resp_1</th>\n",
              "      <th>resp_2</th>\n",
              "      <th>...</th>\n",
              "      <th>feature_127</th>\n",
              "      <th>feature_128</th>\n",
              "      <th>feature_129</th>\n",
              "      <th>ts_id</th>\n",
              "    </tr>\n",
              "  </thead>\n",
              "  <tbody>\n",
              "    <tr>\n",
              "      <th>0</th>\n",
              "      <td>0</td>\n",
              "      <td>0.000000</td>\n",
              "      <td>0.009916</td>\n",
              "      <td>0.014079</td>\n",
              "      <td>...</td>\n",
              "      <td>12.600292</td>\n",
              "      <td>2.301488</td>\n",
              "      <td>11.445807</td>\n",
              "      <td>0</td>\n",
              "    </tr>\n",
              "    <tr>\n",
              "      <th>1</th>\n",
              "      <td>0</td>\n",
              "      <td>16.673515</td>\n",
              "      <td>-0.002828</td>\n",
              "      <td>-0.003226</td>\n",
              "      <td>...</td>\n",
              "      <td>2.297459</td>\n",
              "      <td>-1.304614</td>\n",
              "      <td>1.898684</td>\n",
              "      <td>1</td>\n",
              "    </tr>\n",
              "    <tr>\n",
              "      <th>2</th>\n",
              "      <td>0</td>\n",
              "      <td>0.000000</td>\n",
              "      <td>0.025134</td>\n",
              "      <td>0.027607</td>\n",
              "      <td>...</td>\n",
              "      <td>10.060014</td>\n",
              "      <td>6.638248</td>\n",
              "      <td>9.427299</td>\n",
              "      <td>2</td>\n",
              "    </tr>\n",
              "    <tr>\n",
              "      <th>3</th>\n",
              "      <td>0</td>\n",
              "      <td>0.000000</td>\n",
              "      <td>-0.004730</td>\n",
              "      <td>-0.003273</td>\n",
              "      <td>...</td>\n",
              "      <td>1.266037</td>\n",
              "      <td>3.856384</td>\n",
              "      <td>1.013469</td>\n",
              "      <td>3</td>\n",
              "    </tr>\n",
              "    <tr>\n",
              "      <th>4</th>\n",
              "      <td>0</td>\n",
              "      <td>0.138531</td>\n",
              "      <td>0.001252</td>\n",
              "      <td>0.002165</td>\n",
              "      <td>...</td>\n",
              "      <td>5.233243</td>\n",
              "      <td>0.362636</td>\n",
              "      <td>3.926633</td>\n",
              "      <td>4</td>\n",
              "    </tr>\n",
              "  </tbody>\n",
              "</table>\n",
              "<p>5 rows × 138 columns</p>\n",
              "</div>"
            ],
            "text/plain": [
              "   date     weight    resp_1    resp_2  ...  feature_127  feature_128  \\\n",
              "0     0   0.000000  0.009916  0.014079  ...    12.600292     2.301488   \n",
              "1     0  16.673515 -0.002828 -0.003226  ...     2.297459    -1.304614   \n",
              "2     0   0.000000  0.025134  0.027607  ...    10.060014     6.638248   \n",
              "3     0   0.000000 -0.004730 -0.003273  ...     1.266037     3.856384   \n",
              "4     0   0.138531  0.001252  0.002165  ...     5.233243     0.362636   \n",
              "\n",
              "   feature_129  ts_id  \n",
              "0    11.445807      0  \n",
              "1     1.898684      1  \n",
              "2     9.427299      2  \n",
              "3     1.013469      3  \n",
              "4     3.926633      4  \n",
              "\n",
              "[5 rows x 138 columns]"
            ]
          },
          "metadata": {
            "tags": []
          },
          "execution_count": 6
        }
      ]
    },
    {
      "cell_type": "code",
      "metadata": {
        "trusted": true,
        "id": "6pqJNGEdbguC"
      },
      "source": [
        "# trade with weights 0 have action 0, thus we remove all rows with weights 0/ \n",
        "df = df[df['weight'] != 0].reset_index(drop = True) \n"
      ],
      "execution_count": 7,
      "outputs": []
    },
    {
      "cell_type": "code",
      "metadata": {
        "trusted": true,
        "id": "fI645vi3bguD"
      },
      "source": [
        "# setting target dataset, which is action. \n",
        "dep_var = 'action'\n",
        "df[dep_var] = (((df['resp']* df['weight'])>0)*1).astype('category')"
      ],
      "execution_count": 8,
      "outputs": []
    },
    {
      "cell_type": "code",
      "metadata": {
        "trusted": true,
        "id": "RgZjSmF3bguE"
      },
      "source": [
        "# removing all columns starting with resp (i.e. response) since this is not in the final validation datasets. \r\n",
        "df = df.loc[:, ~df.columns.str.contains('resp')]"
      ],
      "execution_count": 9,
      "outputs": []
    },
    {
      "cell_type": "code",
      "metadata": {
        "trusted": true,
        "colab": {
          "base_uri": "https://localhost:8080/"
        },
        "id": "nOB1GUQcbguG",
        "outputId": "0ee832fd-0dbb-4aab-f514-0a317b1c7a56"
      },
      "source": [
        "# extracting all feature columns which we will use for prediction\n",
        "features_one = [col for col in list(df.columns) if 'feature' in col]\n",
        "features_nn = features_one + [dep_var]\n",
        "\n",
        "len(features_one), len(features_nn)"
      ],
      "execution_count": 10,
      "outputs": [
        {
          "output_type": "execute_result",
          "data": {
            "text/plain": [
              "(130, 131)"
            ]
          },
          "metadata": {
            "tags": []
          },
          "execution_count": 10
        }
      ]
    },
    {
      "cell_type": "markdown",
      "metadata": {
        "id": "LP1oq5twTvwB"
      },
      "source": [
        "Due to the nature of the competition, the code below was not executed in my final submission as it decreased the number of iterations/sec.\r\n",
        "Ideally, the number of iterations/sec should be about 50-60. However the code below when included in the final run, reduces the number of iterations/sec to 7 (maximum). \r\n",
        "\r\n",
        "Also, it is important to note that the accuray of our model slightly increases when applied. "
      ]
    },
    {
      "cell_type": "code",
      "metadata": {
        "trusted": true,
        "id": "Xpb8Yu4ubguG"
      },
      "source": [
        "def augment_df(df, features):\n",
        "    for feature in features:\n",
        "        df[f'{feature}_sq'] = np.square(df[feature].to_numpy())\n",
        "        #df[f'{feature}_log'] = df[feature].apply(lambda x: 0 if x==0 else np.log(x))\n",
        "        df[f'{feature}_log'] = ma.log(df[feature].to_numpy())\n",
        "        \n",
        "    df['feature_min'] = df[features].min(axis=1)\n",
        "    df['feature_mean'] = df[features].mean(axis=1)\n",
        "    df['feature_max'] = df[features].max(axis=1)\n",
        "    df['feature_median'] = df[features].median(axis=1)\n",
        "    df['feature_std'] = df[features].std(axis=1)\n",
        "    df['feature_var'] = df[features].var(axis=1)\n",
        "    df['feature_abs_mean'] = df[features].abs().mean(axis=1)\n",
        "    df['feature_abs_median'] = df[features].abs().median(axis=1)\n",
        "    df['feature_abs_std'] = df[features].abs().std(axis=1)\n",
        "    df['feature_skew'] = df[features].skew(axis=1)\n",
        "    df['feature_kurt'] = df[features].kurt(axis=1)\n",
        "    df['feature_sq_kurt'] = np.square(df[features_one].kurt(axis=1))\n",
        "    return df"
      ],
      "execution_count": 11,
      "outputs": []
    },
    {
      "cell_type": "code",
      "metadata": {
        "trusted": true,
        "colab": {
          "base_uri": "https://localhost:8080/"
        },
        "id": "o6TgCgIYbguI",
        "outputId": "6c8c00ec-ea72-46e2-9cd7-758455a1d3e2"
      },
      "source": [
        "%time df = augment_df(df, features_one)"
      ],
      "execution_count": 12,
      "outputs": [
        {
          "output_type": "stream",
          "text": [
            "CPU times: user 6.07 s, sys: 445 ms, total: 6.51 s\n",
            "Wall time: 6.53 s\n"
          ],
          "name": "stdout"
        }
      ]
    },
    {
      "cell_type": "code",
      "metadata": {
        "trusted": true,
        "colab": {
          "base_uri": "https://localhost:8080/"
        },
        "id": "wqfv-1fGbguI",
        "outputId": "aa6f548d-ae95-4ed1-e0a7-bef97baba3b6"
      },
      "source": [
        "features_nn =  [col for col in list(df.columns) if 'feature' in col] + [dep_var] \n",
        "feature_nn_test = [col for col in list(df.columns) if 'feature' in col]\n",
        "\n",
        "\n",
        "len(feature_nn_test), len(features_nn)"
      ],
      "execution_count": 13,
      "outputs": [
        {
          "output_type": "execute_result",
          "data": {
            "text/plain": [
              "(402, 403)"
            ]
          },
          "metadata": {
            "tags": []
          },
          "execution_count": 13
        }
      ]
    },
    {
      "cell_type": "code",
      "metadata": {
        "trusted": true,
        "colab": {
          "base_uri": "https://localhost:8080/"
        },
        "id": "F5ujQx8LbguJ",
        "outputId": "f4b529c1-45b1-4560-f867-3334208843e8"
      },
      "source": [
        "df.shape"
      ],
      "execution_count": 15,
      "outputs": [
        {
          "output_type": "execute_result",
          "data": {
            "text/plain": [
              "(155528, 406)"
            ]
          },
          "metadata": {
            "tags": []
          },
          "execution_count": 15
        }
      ]
    },
    {
      "cell_type": "code",
      "metadata": {
        "trusted": true,
        "id": "_KAEkPO_bguJ"
      },
      "source": [
        "df_median = df.median()\n",
        "\n",
        "\n",
        "# replacing missing values. \n",
        "df = df.fillna(df_median)"
      ],
      "execution_count": 16,
      "outputs": []
    },
    {
      "cell_type": "code",
      "metadata": {
        "trusted": true,
        "colab": {
          "base_uri": "https://localhost:8080/"
        },
        "id": "xeD60QxJbguK",
        "outputId": "ef4e08eb-f606-4963-ae51-2ed2d2e57d53"
      },
      "source": [
        "df.isnull().sum().sum()"
      ],
      "execution_count": 17,
      "outputs": [
        {
          "output_type": "execute_result",
          "data": {
            "text/plain": [
              "0"
            ]
          },
          "metadata": {
            "tags": []
          },
          "execution_count": 17
        }
      ]
    },
    {
      "cell_type": "code",
      "metadata": {
        "trusted": true,
        "colab": {
          "base_uri": "https://localhost:8080/"
        },
        "id": "IBNlBMstbguK",
        "outputId": "882761fe-57e1-4d84-a9ff-f5658b30331c"
      },
      "source": [
        "df[feature_nn_test].astype('float32')\n",
        "df[dep_var].astype('int')"
      ],
      "execution_count": 18,
      "outputs": [
        {
          "output_type": "execute_result",
          "data": {
            "text/plain": [
              "0         0\n",
              "1         0\n",
              "2         1\n",
              "3         1\n",
              "4         0\n",
              "         ..\n",
              "155523    1\n",
              "155524    1\n",
              "155525    1\n",
              "155526    1\n",
              "155527    1\n",
              "Name: action, Length: 155528, dtype: int64"
            ]
          },
          "metadata": {
            "tags": []
          },
          "execution_count": 18
        }
      ]
    },
    {
      "cell_type": "markdown",
      "metadata": {
        "id": "YYFTn17LXf7t"
      },
      "source": [
        "### utility function."
      ]
    },
    {
      "cell_type": "code",
      "metadata": {
        "trusted": true,
        "id": "wBPEXq90bguL"
      },
      "source": [
        "\n",
        "# getting continous and categorical variables from dataset \n",
        "def cont_cat_split(df, max_card=20, dep_var=None):\n",
        "    \"Helper function that returns column names of cont and cat variables from given `df`.\"\n",
        "    cont_names, cat_names = [], []\n",
        "    for label in df:\n",
        "        if label in L(dep_var): continue\n",
        "        if (pd.api.types.is_integer_dtype(df[label].dtype) and\n",
        "            df[label].unique().shape[0] > max_card or\n",
        "            pd.api.types.is_float_dtype(df[label].dtype)):\n",
        "            cont_names.append(label)\n",
        "        else: cat_names.append(label)\n",
        "    return cont_names, cat_names\n",
        "\n",
        "\n",
        "cont_nn,cat_nn = cont_cat_split(df.loc[:,features_nn], max_card=9000, dep_var=dep_var)"
      ],
      "execution_count": 19,
      "outputs": []
    },
    {
      "cell_type": "code",
      "metadata": {
        "trusted": true,
        "id": "DWKZARDWbguL"
      },
      "source": [
        "# utility function. Some were used others were not \n",
        "def create_train_ds(df, cat, cont, y_name, splits):\n",
        "    splits = RandomSplitter(valid_pct=0.1)(range_of(df))\n",
        "    procs  = [Categorify, FillMissing, Normalize] \n",
        "    to = TabularPandas(df, procs, cat, cont, y_names=dep_var, splits=splits)\n",
        "    \n",
        "    xs, y = to.train.xs.astype(np.float32), to.train.y.astype(np.float32)\n",
        "    valid_xs,valid_y = to.valid.xs.astype(np.float32),to.valid.y.astype(np.float32)\n",
        "    \n",
        "    print(f\"length of train {len(to.train)} and legnth of valid {len(to.valid)}\")\n",
        "    \n",
        "    return to, xs, valid_xs, y, valid_y\n",
        "\n",
        "\n",
        "\n",
        "def m_accuracy(m, xs, y):\n",
        "    return accuracy_score(y.values, m.predict(xs))\n",
        "\n",
        "\n",
        "\n",
        "def _feature_importance(m, df):\n",
        "    return pd.DataFrame({'cols':df.columns,'imp':m.feature_importances_}).sort_values('imp',\n",
        "                                                                                     ascending=False)\n",
        "\n",
        "\n",
        "\n",
        "def plot_feature_importance(fi):\n",
        "    return fi.plot('cols','imp', 'barh', figsize=(15,15), legend=False)\n",
        "\n",
        "\n",
        "def roc_auc(m, xs, valid_xs, y, valid_y):\n",
        "    y_proba = m.predict_proba(valid_xs)\n",
        "    roc_auc = roc_auc_score(valid_y,m.predict(valid_xs))\n",
        "    fpr, tpr, thresholds = roc_curve(valid_y, y_proba[:,1])\n",
        "    plt.figure()\n",
        "    plt.plot(fpr, tpr, label='(area = %0.2f)' % roc_auc)\n",
        "    plt.plot([0, 1], [0, 1],'r--')\n",
        "    plt.xlim([0.0, 1.0])\n",
        "    plt.ylim([0.0, 1.05])\n",
        "    plt.xlabel('False Positive Rate')\n",
        "    plt.ylabel('True Positive Rate')\n",
        "    plt.title('Receiver operating characteristic')\n",
        "    plt.legend(loc=\"lower right\")\n",
        "    plt.show()"
      ],
      "execution_count": 20,
      "outputs": []
    },
    {
      "cell_type": "code",
      "metadata": {
        "trusted": true,
        "id": "ffOQn88kbguM"
      },
      "source": [
        "# We impute the missing values with the medians\n",
        "from numba import njit\n",
        "\n",
        "@njit\n",
        "def fillna_npwhere(array, values):\n",
        "    if np.isnan(array.sum()):\n",
        "        array = np.where(np.isnan(array), values, array)\n",
        "    return array\n",
        "\n",
        "\n",
        "\n",
        "# We impute the missing values with the medians\n",
        "def fill_nan(test_values, features):\n",
        "    na_arr=np.ones((1,len(feature_nn_test)), dtype=np.float32)\n",
        "    na_arr=na_arr*(999)\n",
        "    xar = test_values - na_arr\n",
        "    #xar = np.nan_to_num(xar, nan=-999)\n",
        "    xar = fillna_npwhere(xar, -999)\n",
        "    xar = xar + na_arr\n",
        "    test_df = torch.FloatTensor(xar)\n",
        "    return test_df\n"
      ],
      "execution_count": 21,
      "outputs": []
    },
    {
      "cell_type": "markdown",
      "metadata": {
        "id": "FhsXqeo7bguM"
      },
      "source": [
        "## NN using Fastai and using output of model as input to another model.\n",
        "\n",
        "\n",
        "In this section, we could have Fastai's TabularPandas function but due to some bugs I encounter (still encountering more), I created custom dataloarders for the task. "
      ]
    },
    {
      "cell_type": "code",
      "metadata": {
        "trusted": true,
        "id": "zsmDy6uObguM"
      },
      "source": [
        "splits = RandomSplitter(valid_pct=0.1)(range_of(df))"
      ],
      "execution_count": 22,
      "outputs": []
    },
    {
      "cell_type": "code",
      "metadata": {
        "trusted": true,
        "id": "PK2T4b1zbguM"
      },
      "source": [
        "# splitting dataset into train and test dataset. \n",
        "xs, valid_xs = df.loc[splits[0], feature_nn_test], df.loc[splits[1], feature_nn_test]\n",
        "y, valid_y = df.loc[splits[0], dep_var], df.loc[splits[1], dep_var]"
      ],
      "execution_count": 24,
      "outputs": []
    },
    {
      "cell_type": "code",
      "metadata": {
        "trusted": true,
        "id": "Zp4C6JvrbguN"
      },
      "source": [
        "# creating a custom data loaders. \n",
        "class Fastai_dls():\n",
        "    def __init__(self, df, cats=None, y=None):\n",
        "        df = df.copy() \n",
        "        \n",
        "        if cats is not None:\n",
        "            self.dfcats = df[cats] \n",
        "            self.cats = np.stack([c.values for n, c in self.dfcats.items()], axis=1).astype(np.long)\n",
        "            self.dfconts = df.drop(cats, axis=1)\n",
        "            self.conts = np.stack([c.values for n, c in self.dfconts.items()], axis=1).astype(np.float32)\n",
        "        else:\n",
        "            self.dfconts = df.copy() \n",
        "            self.conts = np.stack([c.values for n, c in self.dfconts.items()], axis=1).astype(np.float32) \n",
        "            self.cats = np.zeros(len(df),).astype(np.long)\n",
        "        \n",
        "        self.y = y.values\n",
        "    \n",
        "    def __len__(self):\n",
        "        return len(self.y) \n",
        "    \n",
        "    def __getitem__(self, idx):\n",
        "        return [self.cats[idx], self.conts[idx], self.y[idx]]        "
      ],
      "execution_count": 25,
      "outputs": []
    },
    {
      "cell_type": "code",
      "metadata": {
        "trusted": true,
        "id": "01pflqV5bguN"
      },
      "source": [
        "train_ds = Fastai_dls(df=xs, y=y)\n",
        "valid_ds = Fastai_dls(df=valid_xs, y=valid_y)"
      ],
      "execution_count": 26,
      "outputs": []
    },
    {
      "cell_type": "code",
      "metadata": {
        "trusted": true,
        "id": "vk-GFkc1bguN"
      },
      "source": [
        "train_dl = DataLoader(train_ds, batch_size = 4096, drop_last=True, shuffle=False)\n",
        "valid_dl = DataLoader(valid_ds, batch_size = 2048, drop_last=True, shuffle=False)\n",
        "\n",
        "dls = DataLoaders(train_dl, valid_dl, device='cuda')"
      ],
      "execution_count": 27,
      "outputs": []
    },
    {
      "cell_type": "code",
      "metadata": {
        "trusted": true,
        "colab": {
          "base_uri": "https://localhost:8080/"
        },
        "id": "TEjrYc30bguN",
        "outputId": "c5085f7e-96b6-46ab-cdb4-09ea84e342ce"
      },
      "source": [
        "dls.cats.shape, dls.conts.shape, dls.y.shape"
      ],
      "execution_count": 28,
      "outputs": [
        {
          "output_type": "execute_result",
          "data": {
            "text/plain": [
              "((139976,), (139976, 402), (139976,))"
            ]
          },
          "metadata": {
            "tags": []
          },
          "execution_count": 28
        }
      ]
    },
    {
      "cell_type": "code",
      "metadata": {
        "trusted": true,
        "id": "LE_IyosQbguO"
      },
      "source": [
        "device = torch.device('cuda:0' if torch.cuda.is_available() else 'cpu')"
      ],
      "execution_count": 29,
      "outputs": []
    },
    {
      "cell_type": "code",
      "metadata": {
        "id": "kHmHTqhOPmdV"
      },
      "source": [
        "# defining loss function, metrics and callbacks\r\n",
        "loss_func = CrossEntropyLossFlat()\r\n",
        "roc_auc = RocAucBinary()\r\n",
        "\r\n",
        "cbs = [GradientAccumulation(),\r\n",
        "       EarlyStoppingCallback(monitor='accuracy', comp=np.greater, min_delta=0.01, patience=4), \r\n",
        "       SaveModelCallback(monitor='accuracy', comp=np.greater, min_delta=0.01),\r\n",
        "       ReduceLROnPlateau(monitor='accuracy', comp=np.greater, min_delta=0.01, patience=2)]"
      ],
      "execution_count": 30,
      "outputs": []
    },
    {
      "cell_type": "code",
      "metadata": {
        "trusted": true,
        "id": "Yy_Iiz4ebguO"
      },
      "source": [
        "# defining my model \n",
        "class JaneStreet(Module):\n",
        "    def __init__(self):\n",
        "        dropout_rate = 0.2\n",
        "        hidden_size = 256\n",
        "        n = len(feature_nn_test)\n",
        "        self.batch_norm0 = nn.BatchNorm1d(n)\n",
        "        self.dropout0 = nn.Dropout(dropout_rate)\n",
        "\n",
        "        self.dense1 = nn.Linear(n, hidden_size)\n",
        "        self.batch_norm1 = nn.BatchNorm1d(hidden_size)\n",
        "        self.dropout1 = nn.Dropout(dropout_rate)\n",
        "\n",
        "        self.dense2 = nn.Linear(hidden_size + n, hidden_size)\n",
        "        self.batch_norm2 = nn.BatchNorm1d(hidden_size)\n",
        "        self.dropout2 = nn.Dropout(dropout_rate)\n",
        "\n",
        "        self.dense3 = nn.Linear(hidden_size + hidden_size, hidden_size)\n",
        "        self.batch_norm3 = nn.BatchNorm1d(hidden_size)\n",
        "        self.dropout3 = nn.Dropout(dropout_rate)\n",
        "\n",
        "        self.dense4 = nn.Linear(hidden_size + hidden_size, hidden_size)\n",
        "        self.batch_norm4 = nn.BatchNorm1d(hidden_size)\n",
        "        self.dropout4 = nn.Dropout(dropout_rate)\n",
        "\n",
        "        self.dense5 = nn.Linear(hidden_size+hidden_size, 2)\n",
        "\n",
        "      \n",
        "        self.LeakyReLU = nn.LeakyReLU(negative_slope=0.1, inplace=True)\n",
        "\n",
        "\n",
        "        self.layers = nn.Sequential(\n",
        "            nn.BatchNorm1d(n),\n",
        "            LinBnDrop(n, 400, bn=True, p=0, act=Mish(), lin_first=False),\n",
        "            LinBnDrop(400, 800, bn=True, p=0.2289, act=Mish(), lin_first=False),   \n",
        "            LinBnDrop(800, 400, bn=True, p=0.2289, act=Mish(), lin_first=False),\n",
        "            LinBnDrop(400, n, bn=False, act=None, lin_first=False),) \n",
        "    \n",
        "    def forward(self, cat,x):\n",
        "        x = self.layers(x)\n",
        "\n",
        "        x = self.batch_norm0(x)\n",
        "        x = self.dropout0(x)\n",
        "\n",
        "        x1 = self.dense1(x) \n",
        "        x1 = self.batch_norm1(x1)\n",
        "        x1 = self.LeakyReLU(x1)\n",
        "        x1 = self.dropout1(x1)\n",
        "\n",
        "        x = torch.cat([x, x1], 1)\n",
        "\n",
        "        x2 = self.dense2(x)\n",
        "        x2 = self.batch_norm2(x2)\n",
        "\n",
        "        x2 = self.LeakyReLU(x2)\n",
        "        x2 = self.dropout2(x2)\n",
        "\n",
        "        x = torch.cat([x1, x2], 1)\n",
        "\n",
        "        #x3 = self.dense3(x)\n",
        "        #x3 = self.batch_norm3(x3)\n",
        "        #x3 = self.LeakyReLU(x3)\n",
        "        #x3 = self.dropout3(x3)\n",
        "\n",
        "       # x = torch.cat([x2, x3], 1)\n",
        "\n",
        "        #x4 = self.dense4(x)\n",
        "        #x4 = self.batch_norm4(x4)\n",
        "        #x4 = self.LeakyReLU(x4)\n",
        "        #x4 = self.dropout4(x4)\n",
        "\n",
        "       # x = torch.cat([x3, x4], 1)\n",
        "\n",
        "        x = self.dense5(x)\n",
        "\n",
        "        return F.softmax(x, dim=1)\n",
        "    \n",
        "\n",
        "model_nn = JaneStreet()\n",
        "model_nn = model_nn.to(device)"
      ],
      "execution_count": 31,
      "outputs": []
    },
    {
      "cell_type": "code",
      "metadata": {
        "trusted": true,
        "id": "5YnE82zcbguO"
      },
      "source": [
        "# defining Learner for training \r\n",
        "learn = Learner(dls, model_nn, loss_func = loss_func, metrics=[accuracy,roc_auc]).to_fp32()"
      ],
      "execution_count": 32,
      "outputs": []
    },
    {
      "cell_type": "code",
      "metadata": {
        "trusted": true,
        "colab": {
          "base_uri": "https://localhost:8080/",
          "height": 301
        },
        "id": "utGhHG5mbguP",
        "outputId": "ceba936b-5494-4627-a16c-cdd7aeeac1a4"
      },
      "source": [
        "learn.lr_find()"
      ],
      "execution_count": 33,
      "outputs": [
        {
          "output_type": "display_data",
          "data": {
            "text/html": [
              ""
            ],
            "text/plain": [
              "<IPython.core.display.HTML object>"
            ]
          },
          "metadata": {
            "tags": []
          }
        },
        {
          "output_type": "execute_result",
          "data": {
            "text/plain": [
              "SuggestedLRs(lr_min=0.04365158379077912, lr_steep=0.010964781977236271)"
            ]
          },
          "metadata": {
            "tags": []
          },
          "execution_count": 33
        },
        {
          "output_type": "display_data",
          "data": {
            "image/png": "[encoded data removed]",
            "text/plain": [
              "<Figure size 432x288 with 1 Axes>"
            ]
          },
          "metadata": {
            "tags": [],
            "needs_background": "light"
          }
        }
      ]
    },
    {
      "cell_type": "code",
      "metadata": {
        "trusted": true,
        "colab": {
          "base_uri": "https://localhost:8080/",
          "height": 897
        },
        "id": "BBSXbDuubguP",
        "outputId": "961aed79-fae2-4cbb-be70-8ae7bbb697d9"
      },
      "source": [
        "learn.fit_one_cycle(20, 1e-2, cbs=cbs)"
      ],
      "execution_count": 34,
      "outputs": [
        {
          "output_type": "display_data",
          "data": {
            "text/html": [
              "<table border=\"1\" class=\"dataframe\">\n",
              "  <thead>\n",
              "    <tr style=\"text-align: left;\">\n",
              "      <th>epoch</th>\n",
              "      <th>train_loss</th>\n",
              "      <th>valid_loss</th>\n",
              "      <th>accuracy</th>\n",
              "      <th>roc_auc_score</th>\n",
              "      <th>time</th>\n",
              "    </tr>\n",
              "  </thead>\n",
              "  <tbody>\n",
              "    <tr>\n",
              "      <td>0</td>\n",
              "      <td>0.691607</td>\n",
              "      <td>0.684890</td>\n",
              "      <td>0.540806</td>\n",
              "      <td>0.560280</td>\n",
              "      <td>00:02</td>\n",
              "    </tr>\n",
              "    <tr>\n",
              "      <td>1</td>\n",
              "      <td>0.685817</td>\n",
              "      <td>0.685720</td>\n",
              "      <td>0.550293</td>\n",
              "      <td>0.573549</td>\n",
              "      <td>00:03</td>\n",
              "    </tr>\n",
              "    <tr>\n",
              "      <td>2</td>\n",
              "      <td>0.681287</td>\n",
              "      <td>0.678165</td>\n",
              "      <td>0.560826</td>\n",
              "      <td>0.594965</td>\n",
              "      <td>00:03</td>\n",
              "    </tr>\n",
              "    <tr>\n",
              "      <td>3</td>\n",
              "      <td>0.676755</td>\n",
              "      <td>0.673536</td>\n",
              "      <td>0.568429</td>\n",
              "      <td>0.605073</td>\n",
              "      <td>00:03</td>\n",
              "    </tr>\n",
              "    <tr>\n",
              "      <td>4</td>\n",
              "      <td>0.671056</td>\n",
              "      <td>0.670174</td>\n",
              "      <td>0.576521</td>\n",
              "      <td>0.617103</td>\n",
              "      <td>00:02</td>\n",
              "    </tr>\n",
              "    <tr>\n",
              "      <td>5</td>\n",
              "      <td>0.664675</td>\n",
              "      <td>0.673411</td>\n",
              "      <td>0.559849</td>\n",
              "      <td>0.599095</td>\n",
              "      <td>00:03</td>\n",
              "    </tr>\n",
              "    <tr>\n",
              "      <td>6</td>\n",
              "      <td>0.658145</td>\n",
              "      <td>0.668097</td>\n",
              "      <td>0.586147</td>\n",
              "      <td>0.633828</td>\n",
              "      <td>00:02</td>\n",
              "    </tr>\n",
              "    <tr>\n",
              "      <td>7</td>\n",
              "      <td>0.650803</td>\n",
              "      <td>0.651233</td>\n",
              "      <td>0.605748</td>\n",
              "      <td>0.659833</td>\n",
              "      <td>00:02</td>\n",
              "    </tr>\n",
              "    <tr>\n",
              "      <td>8</td>\n",
              "      <td>0.642964</td>\n",
              "      <td>0.655354</td>\n",
              "      <td>0.606934</td>\n",
              "      <td>0.659029</td>\n",
              "      <td>00:02</td>\n",
              "    </tr>\n",
              "    <tr>\n",
              "      <td>9</td>\n",
              "      <td>0.634794</td>\n",
              "      <td>0.650624</td>\n",
              "      <td>0.604771</td>\n",
              "      <td>0.661042</td>\n",
              "      <td>00:02</td>\n",
              "    </tr>\n",
              "    <tr>\n",
              "      <td>10</td>\n",
              "      <td>0.626779</td>\n",
              "      <td>0.643351</td>\n",
              "      <td>0.624512</td>\n",
              "      <td>0.683313</td>\n",
              "      <td>00:02</td>\n",
              "    </tr>\n",
              "    <tr>\n",
              "      <td>11</td>\n",
              "      <td>0.617199</td>\n",
              "      <td>0.660196</td>\n",
              "      <td>0.611328</td>\n",
              "      <td>0.666140</td>\n",
              "      <td>00:02</td>\n",
              "    </tr>\n",
              "    <tr>\n",
              "      <td>12</td>\n",
              "      <td>0.607306</td>\n",
              "      <td>0.632880</td>\n",
              "      <td>0.639369</td>\n",
              "      <td>0.701388</td>\n",
              "      <td>00:02</td>\n",
              "    </tr>\n",
              "    <tr>\n",
              "      <td>13</td>\n",
              "      <td>0.595890</td>\n",
              "      <td>0.641265</td>\n",
              "      <td>0.624163</td>\n",
              "      <td>0.684749</td>\n",
              "      <td>00:02</td>\n",
              "    </tr>\n",
              "    <tr>\n",
              "      <td>14</td>\n",
              "      <td>0.585098</td>\n",
              "      <td>0.635842</td>\n",
              "      <td>0.636370</td>\n",
              "      <td>0.700417</td>\n",
              "      <td>00:02</td>\n",
              "    </tr>\n",
              "    <tr>\n",
              "      <td>15</td>\n",
              "      <td>0.573853</td>\n",
              "      <td>0.628843</td>\n",
              "      <td>0.651786</td>\n",
              "      <td>0.717595</td>\n",
              "      <td>00:03</td>\n",
              "    </tr>\n",
              "    <tr>\n",
              "      <td>16</td>\n",
              "      <td>0.564586</td>\n",
              "      <td>0.627700</td>\n",
              "      <td>0.652692</td>\n",
              "      <td>0.721528</td>\n",
              "      <td>00:02</td>\n",
              "    </tr>\n",
              "    <tr>\n",
              "      <td>17</td>\n",
              "      <td>0.555632</td>\n",
              "      <td>0.627453</td>\n",
              "      <td>0.654715</td>\n",
              "      <td>0.722589</td>\n",
              "      <td>00:02</td>\n",
              "    </tr>\n",
              "    <tr>\n",
              "      <td>18</td>\n",
              "      <td>0.548891</td>\n",
              "      <td>0.627366</td>\n",
              "      <td>0.655971</td>\n",
              "      <td>0.723653</td>\n",
              "      <td>00:03</td>\n",
              "    </tr>\n",
              "    <tr>\n",
              "      <td>19</td>\n",
              "      <td>0.544899</td>\n",
              "      <td>0.627353</td>\n",
              "      <td>0.655552</td>\n",
              "      <td>0.723790</td>\n",
              "      <td>00:02</td>\n",
              "    </tr>\n",
              "  </tbody>\n",
              "</table>"
            ],
            "text/plain": [
              "<IPython.core.display.HTML object>"
            ]
          },
          "metadata": {
            "tags": []
          }
        },
        {
          "output_type": "stream",
          "text": [
            "Better model found at epoch 0 with accuracy value: 0.5408063530921936.\n",
            "Better model found at epoch 2 with accuracy value: 0.5608258843421936.\n",
            "Better model found at epoch 4 with accuracy value: 0.5765206217765808.\n",
            "Epoch 6: reducing lr to 0.0009580172347940181\n",
            "Better model found at epoch 7 with accuracy value: 0.6057477593421936.\n",
            "Epoch 9: reducing lr to 0.0007526650921209491\n",
            "Better model found at epoch 10 with accuracy value: 0.62451171875.\n",
            "Better model found at epoch 12 with accuracy value: 0.6393694281578064.\n",
            "Epoch 14: reducing lr to 0.0002526794836121448\n",
            "Better model found at epoch 15 with accuracy value: 0.6517857313156128.\n",
            "Epoch 17: reducing lr to 4.449824457047561e-05\n",
            "No improvement since epoch 15: early stopping\n"
          ],
          "name": "stdout"
        }
      ]
    },
    {
      "cell_type": "code",
      "metadata": {
        "trusted": true,
        "colab": {
          "base_uri": "https://localhost:8080/",
          "height": 261
        },
        "id": "s8DoDO2obguP",
        "outputId": "6d1158ca-8b2c-466a-d6cf-6d6867bdf518"
      },
      "source": [
        "learn.fit_one_cycle(20, 1e-3, wd = 0.0001, cbs=cbs)"
      ],
      "execution_count": 35,
      "outputs": [
        {
          "output_type": "display_data",
          "data": {
            "text/html": [
              "<table border=\"1\" class=\"dataframe\">\n",
              "  <thead>\n",
              "    <tr style=\"text-align: left;\">\n",
              "      <th>epoch</th>\n",
              "      <th>train_loss</th>\n",
              "      <th>valid_loss</th>\n",
              "      <th>accuracy</th>\n",
              "      <th>roc_auc_score</th>\n",
              "      <th>time</th>\n",
              "    </tr>\n",
              "  </thead>\n",
              "  <tbody>\n",
              "    <tr>\n",
              "      <td>0</td>\n",
              "      <td>0.554790</td>\n",
              "      <td>0.627454</td>\n",
              "      <td>0.653878</td>\n",
              "      <td>0.719309</td>\n",
              "      <td>00:02</td>\n",
              "    </tr>\n",
              "    <tr>\n",
              "      <td>1</td>\n",
              "      <td>0.552611</td>\n",
              "      <td>0.626815</td>\n",
              "      <td>0.653809</td>\n",
              "      <td>0.722306</td>\n",
              "      <td>00:02</td>\n",
              "    </tr>\n",
              "    <tr>\n",
              "      <td>2</td>\n",
              "      <td>0.550028</td>\n",
              "      <td>0.628586</td>\n",
              "      <td>0.651786</td>\n",
              "      <td>0.721557</td>\n",
              "      <td>00:02</td>\n",
              "    </tr>\n",
              "    <tr>\n",
              "      <td>3</td>\n",
              "      <td>0.548423</td>\n",
              "      <td>0.628071</td>\n",
              "      <td>0.654018</td>\n",
              "      <td>0.722426</td>\n",
              "      <td>00:03</td>\n",
              "    </tr>\n",
              "    <tr>\n",
              "      <td>4</td>\n",
              "      <td>0.546515</td>\n",
              "      <td>0.626714</td>\n",
              "      <td>0.654785</td>\n",
              "      <td>0.724814</td>\n",
              "      <td>00:02</td>\n",
              "    </tr>\n",
              "  </tbody>\n",
              "</table>"
            ],
            "text/plain": [
              "<IPython.core.display.HTML object>"
            ]
          },
          "metadata": {
            "tags": []
          }
        },
        {
          "output_type": "stream",
          "text": [
            "Better model found at epoch 0 with accuracy value: 0.6538783311843872.\n",
            "Epoch 2: reducing lr to 6.598670704145258e-05\n",
            "No improvement since epoch 0: early stopping\n"
          ],
          "name": "stdout"
        }
      ]
    },
    {
      "cell_type": "code",
      "metadata": {
        "trusted": true,
        "colab": {
          "base_uri": "https://localhost:8080/",
          "height": 261
        },
        "id": "STGqdbGqbguP",
        "outputId": "30214723-0533-422f-89d8-6574839a8047"
      },
      "source": [
        "learn.fit_one_cycle(20,slice(1e-03),wd = 0.0001, cbs=cbs)"
      ],
      "execution_count": 36,
      "outputs": [
        {
          "output_type": "display_data",
          "data": {
            "text/html": [
              "<table border=\"1\" class=\"dataframe\">\n",
              "  <thead>\n",
              "    <tr style=\"text-align: left;\">\n",
              "      <th>epoch</th>\n",
              "      <th>train_loss</th>\n",
              "      <th>valid_loss</th>\n",
              "      <th>accuracy</th>\n",
              "      <th>roc_auc_score</th>\n",
              "      <th>time</th>\n",
              "    </tr>\n",
              "  </thead>\n",
              "  <tbody>\n",
              "    <tr>\n",
              "      <td>0</td>\n",
              "      <td>0.551819</td>\n",
              "      <td>0.627065</td>\n",
              "      <td>0.653878</td>\n",
              "      <td>0.720447</td>\n",
              "      <td>00:02</td>\n",
              "    </tr>\n",
              "    <tr>\n",
              "      <td>1</td>\n",
              "      <td>0.550544</td>\n",
              "      <td>0.627526</td>\n",
              "      <td>0.653878</td>\n",
              "      <td>0.722107</td>\n",
              "      <td>00:03</td>\n",
              "    </tr>\n",
              "    <tr>\n",
              "      <td>2</td>\n",
              "      <td>0.549451</td>\n",
              "      <td>0.626863</td>\n",
              "      <td>0.654576</td>\n",
              "      <td>0.723404</td>\n",
              "      <td>00:03</td>\n",
              "    </tr>\n",
              "    <tr>\n",
              "      <td>3</td>\n",
              "      <td>0.547920</td>\n",
              "      <td>0.626525</td>\n",
              "      <td>0.655622</td>\n",
              "      <td>0.722520</td>\n",
              "      <td>00:02</td>\n",
              "    </tr>\n",
              "    <tr>\n",
              "      <td>4</td>\n",
              "      <td>0.546614</td>\n",
              "      <td>0.626699</td>\n",
              "      <td>0.655901</td>\n",
              "      <td>0.722730</td>\n",
              "      <td>00:02</td>\n",
              "    </tr>\n",
              "  </tbody>\n",
              "</table>"
            ],
            "text/plain": [
              "<IPython.core.display.HTML object>"
            ]
          },
          "metadata": {
            "tags": []
          }
        },
        {
          "output_type": "stream",
          "text": [
            "Better model found at epoch 0 with accuracy value: 0.6538783311843872.\n",
            "Epoch 2: reducing lr to 6.598670704145258e-05\n",
            "No improvement since epoch 0: early stopping\n"
          ],
          "name": "stdout"
        }
      ]
    },
    {
      "cell_type": "code",
      "metadata": {
        "colab": {
          "base_uri": "https://localhost:8080/"
        },
        "id": "gNzmU3dMqbMD",
        "outputId": "9d2cd43c-bbc6-4c14-8ab8-bf618b78d053"
      },
      "source": [
        "# running our dataframe to our model and using the output as an input into xGBoost Model \r\n",
        "%time X_test = fill_nan(df.loc[:,features_nn].drop(dep_var, axis=1).values, feature_nn_test).cuda()"
      ],
      "execution_count": 38,
      "outputs": [
        {
          "output_type": "stream",
          "text": [
            "CPU times: user 1.26 s, sys: 274 ms, total: 1.54 s\n",
            "Wall time: 1.57 s\n"
          ],
          "name": "stdout"
        }
      ]
    },
    {
      "cell_type": "code",
      "metadata": {
        "trusted": true,
        "colab": {
          "base_uri": "https://localhost:8080/"
        },
        "id": "y9E-RpXUbguQ",
        "outputId": "cab44aae-691e-402e-a606-5928e0c62235"
      },
      "source": [
        "%time preds = learn.model(0, X_test).argmax(dim=1).detach().cpu().numpy()"
      ],
      "execution_count": 39,
      "outputs": [
        {
          "output_type": "stream",
          "text": [
            "CPU times: user 133 ms, sys: 93.2 ms, total: 226 ms\n",
            "Wall time: 227 ms\n"
          ],
          "name": "stdout"
        }
      ]
    },
    {
      "cell_type": "code",
      "metadata": {
        "trusted": true,
        "id": "w7epu3xSbguR"
      },
      "source": [
        "# adding output as a feature to the df\r\n",
        "df['feature_fastai'] = pd.DataFrame(preds)"
      ],
      "execution_count": 40,
      "outputs": []
    },
    {
      "cell_type": "code",
      "metadata": {
        "trusted": true,
        "colab": {
          "base_uri": "https://localhost:8080/",
          "height": 236
        },
        "id": "8-DRO1bbbguR",
        "outputId": "d956a840-e0c8-48cd-c1a2-38793191faa4"
      },
      "source": [
        "df.head()"
      ],
      "execution_count": 50,
      "outputs": [
        {
          "output_type": "execute_result",
          "data": {
            "text/html": [
              "<div>\n",
              "<style scoped>\n",
              "    .dataframe tbody tr th:only-of-type {\n",
              "        vertical-align: middle;\n",
              "    }\n",
              "\n",
              "    .dataframe tbody tr th {\n",
              "        vertical-align: top;\n",
              "    }\n",
              "\n",
              "    .dataframe thead th {\n",
              "        text-align: right;\n",
              "    }\n",
              "</style>\n",
              "<table border=\"1\" class=\"dataframe\">\n",
              "  <thead>\n",
              "    <tr style=\"text-align: right;\">\n",
              "      <th></th>\n",
              "      <th>date</th>\n",
              "      <th>weight</th>\n",
              "      <th>feature_0</th>\n",
              "      <th>feature_1</th>\n",
              "      <th>...</th>\n",
              "      <th>feature_skew</th>\n",
              "      <th>feature_kurt</th>\n",
              "      <th>feature_sq_kurt</th>\n",
              "      <th>feature_fastai</th>\n",
              "    </tr>\n",
              "  </thead>\n",
              "  <tbody>\n",
              "    <tr>\n",
              "      <th>0</th>\n",
              "      <td>0</td>\n",
              "      <td>16.673515</td>\n",
              "      <td>-1</td>\n",
              "      <td>-1.349537</td>\n",
              "      <td>...</td>\n",
              "      <td>0.333055</td>\n",
              "      <td>1.320575</td>\n",
              "      <td>1.743918</td>\n",
              "      <td>0</td>\n",
              "    </tr>\n",
              "    <tr>\n",
              "      <th>1</th>\n",
              "      <td>0</td>\n",
              "      <td>0.138531</td>\n",
              "      <td>1</td>\n",
              "      <td>-3.172026</td>\n",
              "      <td>...</td>\n",
              "      <td>0.565369</td>\n",
              "      <td>0.448392</td>\n",
              "      <td>0.201055</td>\n",
              "      <td>1</td>\n",
              "    </tr>\n",
              "    <tr>\n",
              "      <th>2</th>\n",
              "      <td>0</td>\n",
              "      <td>0.190575</td>\n",
              "      <td>-1</td>\n",
              "      <td>-3.172026</td>\n",
              "      <td>...</td>\n",
              "      <td>0.587222</td>\n",
              "      <td>0.820025</td>\n",
              "      <td>0.672440</td>\n",
              "      <td>1</td>\n",
              "    </tr>\n",
              "    <tr>\n",
              "      <th>3</th>\n",
              "      <td>0</td>\n",
              "      <td>3.820844</td>\n",
              "      <td>-1</td>\n",
              "      <td>0.446050</td>\n",
              "      <td>...</td>\n",
              "      <td>0.435421</td>\n",
              "      <td>0.071277</td>\n",
              "      <td>0.005080</td>\n",
              "      <td>1</td>\n",
              "    </tr>\n",
              "    <tr>\n",
              "      <th>4</th>\n",
              "      <td>0</td>\n",
              "      <td>0.116557</td>\n",
              "      <td>1</td>\n",
              "      <td>-3.172026</td>\n",
              "      <td>...</td>\n",
              "      <td>1.260976</td>\n",
              "      <td>3.391439</td>\n",
              "      <td>11.501862</td>\n",
              "      <td>1</td>\n",
              "    </tr>\n",
              "  </tbody>\n",
              "</table>\n",
              "<p>5 rows × 407 columns</p>\n",
              "</div>"
            ],
            "text/plain": [
              "   date     weight  feature_0  feature_1  ...  feature_skew  feature_kurt  \\\n",
              "0     0  16.673515         -1  -1.349537  ...      0.333055      1.320575   \n",
              "1     0   0.138531          1  -3.172026  ...      0.565369      0.448392   \n",
              "2     0   0.190575         -1  -3.172026  ...      0.587222      0.820025   \n",
              "3     0   3.820844         -1   0.446050  ...      0.435421      0.071277   \n",
              "4     0   0.116557          1  -3.172026  ...      1.260976      3.391439   \n",
              "\n",
              "   feature_sq_kurt  feature_fastai  \n",
              "0         1.743918               0  \n",
              "1         0.201055               1  \n",
              "2         0.672440               1  \n",
              "3         0.005080               1  \n",
              "4        11.501862               1  \n",
              "\n",
              "[5 rows x 407 columns]"
            ]
          },
          "metadata": {
            "tags": []
          },
          "execution_count": 50
        }
      ]
    },
    {
      "cell_type": "code",
      "metadata": {
        "trusted": true,
        "colab": {
          "base_uri": "https://localhost:8080/"
        },
        "id": "uzdjEtcqbguR",
        "outputId": "3a721006-7a0d-4306-b099-4ea137d8e586"
      },
      "source": [
        "df.isnull().sum().sum()"
      ],
      "execution_count": 41,
      "outputs": [
        {
          "output_type": "execute_result",
          "data": {
            "text/plain": [
              "0"
            ]
          },
          "metadata": {
            "tags": []
          },
          "execution_count": 41
        }
      ]
    },
    {
      "cell_type": "code",
      "metadata": {
        "trusted": true,
        "colab": {
          "base_uri": "https://localhost:8080/"
        },
        "id": "BcrO5F-sbguS",
        "outputId": "bae28630-34a2-497a-a002-e308a2543ab0"
      },
      "source": [
        "features = [col for col in list(df.columns) if 'feature' in col]\n",
        "len(features)"
      ],
      "execution_count": 42,
      "outputs": [
        {
          "output_type": "execute_result",
          "data": {
            "text/plain": [
              "403"
            ]
          },
          "metadata": {
            "tags": []
          },
          "execution_count": 42
        }
      ]
    },
    {
      "cell_type": "code",
      "metadata": {
        "trusted": true,
        "id": "HzV4hynBbguW"
      },
      "source": [
        "df_median = df.median()"
      ],
      "execution_count": 53,
      "outputs": []
    },
    {
      "cell_type": "markdown",
      "metadata": {
        "id": "H5pcp7AnYODf"
      },
      "source": [
        "## PCA and Normalization \r\n",
        "Since we did not used fastai's Tabularpandas, we out performed dimension reduction using PCA and also used the StandardScaler to normlize our dataset. "
      ]
    },
    {
      "cell_type": "code",
      "metadata": {
        "trusted": true,
        "id": "cc9-hmj1bguW"
      },
      "source": [
        "X = df.loc[:,features]\n",
        "y =df.loc[:, 'action']"
      ],
      "execution_count": 54,
      "outputs": []
    },
    {
      "cell_type": "code",
      "metadata": {
        "trusted": true,
        "id": "Si3HSyz9bguW"
      },
      "source": [
        "xs, valid_xs, y, valid_y = train_test_split(X, y, test_size=0.1, random_state = 42)"
      ],
      "execution_count": 55,
      "outputs": []
    },
    {
      "cell_type": "code",
      "metadata": {
        "trusted": true,
        "id": "JjldjaRpbguW"
      },
      "source": [
        "scalar = StandardScaler()\n",
        "scalar.fit(xs)\n",
        "xs_norm = scalar.transform(xs)\n",
        "\n",
        "pca = PCA() \n",
        "comp = pca.fit(xs_norm)"
      ],
      "execution_count": 56,
      "outputs": []
    },
    {
      "cell_type": "code",
      "metadata": {
        "trusted": true,
        "colab": {
          "base_uri": "https://localhost:8080/",
          "height": 279
        },
        "id": "nIoxex96bguW",
        "outputId": "dee5c990-de3b-4422-ca4c-4116fda6c82a"
      },
      "source": [
        "# explained variation in the 403 features. \n",
        "plt.plot(np.cumsum(comp.explained_variance_ratio_)) \n",
        "plt.grid()\n",
        "plt.xlabel('Number of PC')\n",
        "plt.ylabel('Explained Variance')\n",
        "sns.despine()"
      ],
      "execution_count": 57,
      "outputs": [
        {
          "output_type": "display_data",
          "data": {
            "image/png": "[encoded data removed]",
            "text/plain": [
              "<Figure size 432x288 with 1 Axes>"
            ]
          },
          "metadata": {
            "tags": [],
            "needs_background": "light"
          }
        }
      ]
    },
    {
      "cell_type": "code",
      "metadata": {
        "trusted": true,
        "id": "F1rHBXY1bguW"
      },
      "source": [
        "# transform training set \n",
        "pca = PCA(n_components=175).fit(xs_norm)\n",
        "xs_transform = pca.transform(xs_norm)\n",
        "\n",
        "# transform validation set \n",
        "valid_xs_transform = pca.transform(scalar.transform(valid_xs))"
      ],
      "execution_count": 59,
      "outputs": []
    },
    {
      "cell_type": "markdown",
      "metadata": {
        "id": "PZkfSTfxbguW"
      },
      "source": [
        "\n",
        "\n",
        "## Xgboost and Hypertunning\n",
        "\n",
        "Now that all is set and done. We use optuna for hypertunning to get the best params to run our final model"
      ]
    },
    {
      "cell_type": "code",
      "metadata": {
        "trusted": true,
        "id": "IAkwpBXnbguX"
      },
      "source": [
        "dtrain = xgb.DMatrix(xs_transform, label=y)\n",
        "dvalid = xgb.DMatrix(valid_xs_transform, label=valid_y)\n",
        "\n",
        "def objective(trial):\n",
        "    # parameters for hypertunning \n",
        "    params = {'n_estimators': trial.suggest_int('n_estimators',400, 600),\n",
        "              'max_depth': trial.suggest_int('max_depth', 10, 20),\n",
        "              'learning_rate': trial.suggest_uniform('learning_rate', 0.01, .1),\n",
        "              'subsample' : trial.suggest_uniform('subsample', 0.50, 1),\n",
        "              'colsample_bytree': trial.suggest_uniform('colsample_bytree', 0.50, 1),\n",
        "              'gamma': trial.suggest_int('gamma', 0, 10),\n",
        "              'tree_method': 'gpu_hist',\n",
        "              'objective': 'binary:logistic'}\n",
        "    \n",
        "    best = xgb.train(params, dtrain) \n",
        "    preds = np.rint(best.predict(dvalid))\n",
        "    \n",
        "    accuracy = accuracy_score(valid_y, preds)\n",
        "    \n",
        "    return accuracy\n"
      ],
      "execution_count": 61,
      "outputs": []
    },
    {
      "cell_type": "code",
      "metadata": {
        "trusted": true,
        "colab": {
          "base_uri": "https://localhost:8080/"
        },
        "id": "YivMYGgfbguX",
        "outputId": "4120f9da-c793-45a0-d65c-c8fa39a3433b"
      },
      "source": [
        "study = optuna.create_study()\n",
        "study.optimize(objective,n_trials=15)"
      ],
      "execution_count": 62,
      "outputs": [
        {
          "output_type": "stream",
          "text": [
            "\u001b[32m[I 2021-01-26 17:21:58,843]\u001b[0m A new study created in memory with name: no-name-cef3f5eb-a80c-4775-a9ab-1e89b9c5d961\u001b[0m\n",
            "\u001b[32m[I 2021-01-26 17:22:07,762]\u001b[0m Trial 0 finished with value: 0.712852825821385 and parameters: {'n_estimators': 432, 'max_depth': 20, 'learning_rate': 0.05316590799747048, 'subsample': 0.6030339348493646, 'colsample_bytree': 0.5041951234556589, 'gamma': 0}. Best is trial 0 with value: 0.712852825821385.\u001b[0m\n",
            "\u001b[32m[I 2021-01-26 17:22:18,330]\u001b[0m Trial 1 finished with value: 0.7280267472513341 and parameters: {'n_estimators': 495, 'max_depth': 20, 'learning_rate': 0.06994275310474216, 'subsample': 0.7878025178834351, 'colsample_bytree': 0.8803972779006508, 'gamma': 7}. Best is trial 0 with value: 0.712852825821385.\u001b[0m\n",
            "\u001b[32m[I 2021-01-26 17:22:21,231]\u001b[0m Trial 2 finished with value: 0.7388285218285862 and parameters: {'n_estimators': 575, 'max_depth': 12, 'learning_rate': 0.08469370253489612, 'subsample': 0.9542683974475639, 'colsample_bytree': 0.9402130470011565, 'gamma': 5}. Best is trial 0 with value: 0.712852825821385.\u001b[0m\n",
            "\u001b[32m[I 2021-01-26 17:22:29,584]\u001b[0m Trial 3 finished with value: 0.7240403780621102 and parameters: {'n_estimators': 581, 'max_depth': 17, 'learning_rate': 0.09737274652139076, 'subsample': 0.7626282267740945, 'colsample_bytree': 0.8350626423397698, 'gamma': 1}. Best is trial 0 with value: 0.712852825821385.\u001b[0m\n",
            "\u001b[32m[I 2021-01-26 17:22:41,359]\u001b[0m Trial 4 finished with value: 0.7266122291519321 and parameters: {'n_estimators': 574, 'max_depth': 19, 'learning_rate': 0.0866660132820294, 'subsample': 0.9174260796450562, 'colsample_bytree': 0.969457811009965, 'gamma': 7}. Best is trial 0 with value: 0.712852825821385.\u001b[0m\n",
            "\u001b[32m[I 2021-01-26 17:22:44,620]\u001b[0m Trial 5 finished with value: 0.7390214106603228 and parameters: {'n_estimators': 580, 'max_depth': 13, 'learning_rate': 0.012933330058851871, 'subsample': 0.6227659686086489, 'colsample_bytree': 0.7404931965812653, 'gamma': 1}. Best is trial 0 with value: 0.712852825821385.\u001b[0m\n",
            "\u001b[32m[I 2021-01-26 17:22:46,335]\u001b[0m Trial 6 finished with value: 0.7400501510962515 and parameters: {'n_estimators': 480, 'max_depth': 11, 'learning_rate': 0.0282232395401555, 'subsample': 0.7980018979397375, 'colsample_bytree': 0.6231721323422814, 'gamma': 5}. Best is trial 0 with value: 0.712852825821385.\u001b[0m\n",
            "\u001b[32m[I 2021-01-26 17:22:54,191]\u001b[0m Trial 7 finished with value: 0.7307914871728927 and parameters: {'n_estimators': 588, 'max_depth': 18, 'learning_rate': 0.07896845483088494, 'subsample': 0.622006053733118, 'colsample_bytree': 0.9691729657870658, 'gamma': 7}. Best is trial 0 with value: 0.712852825821385.\u001b[0m\n",
            "\u001b[32m[I 2021-01-26 17:22:55,488]\u001b[0m Trial 8 finished with value: 0.7435221500675111 and parameters: {'n_estimators': 580, 'max_depth': 10, 'learning_rate': 0.01675790370010787, 'subsample': 0.8766339219100194, 'colsample_bytree': 0.7468055644625144, 'gamma': 6}. Best is trial 0 with value: 0.712852825821385.\u001b[0m\n",
            "\u001b[32m[I 2021-01-26 17:23:06,888]\u001b[0m Trial 9 finished with value: 0.7300199318459462 and parameters: {'n_estimators': 575, 'max_depth': 20, 'learning_rate': 0.016929814973638317, 'subsample': 0.8505585597383483, 'colsample_bytree': 0.9721352043360518, 'gamma': 8}. Best is trial 0 with value: 0.712852825821385.\u001b[0m\n",
            "\u001b[32m[I 2021-01-26 17:23:11,057]\u001b[0m Trial 10 finished with value: 0.7226258599627081 and parameters: {'n_estimators': 400, 'max_depth': 15, 'learning_rate': 0.04571749310434029, 'subsample': 0.5052117411246719, 'colsample_bytree': 0.5032220267129726, 'gamma': 10}. Best is trial 0 with value: 0.712852825821385.\u001b[0m\n",
            "\u001b[32m[I 2021-01-26 17:23:15,119]\u001b[0m Trial 11 finished with value: 0.7253263036070211 and parameters: {'n_estimators': 404, 'max_depth': 15, 'learning_rate': 0.04547748707170171, 'subsample': 0.5094138178759925, 'colsample_bytree': 0.528006777428292, 'gamma': 10}. Best is trial 0 with value: 0.712852825821385.\u001b[0m\n",
            "\u001b[32m[I 2021-01-26 17:23:19,125]\u001b[0m Trial 12 finished with value: 0.7247476371118112 and parameters: {'n_estimators': 405, 'max_depth': 15, 'learning_rate': 0.05165598894060981, 'subsample': 0.501102929169433, 'colsample_bytree': 0.520841589905559, 'gamma': 2}. Best is trial 0 with value: 0.712852825821385.\u001b[0m\n",
            "\u001b[32m[I 2021-01-26 17:23:25,420]\u001b[0m Trial 13 finished with value: 0.7284768211920529 and parameters: {'n_estimators': 446, 'max_depth': 17, 'learning_rate': 0.03830772039565017, 'subsample': 0.6137824255626344, 'colsample_bytree': 0.6199330542446446, 'gamma': 3}. Best is trial 0 with value: 0.712852825821385.\u001b[0m\n",
            "\u001b[32m[I 2021-01-26 17:23:29,049]\u001b[0m Trial 14 finished with value: 0.7336848196489423 and parameters: {'n_estimators': 436, 'max_depth': 14, 'learning_rate': 0.06400777080482419, 'subsample': 0.5591318563800007, 'colsample_bytree': 0.6050716610853394, 'gamma': 10}. Best is trial 0 with value: 0.712852825821385.\u001b[0m\n"
          ],
          "name": "stderr"
        }
      ]
    },
    {
      "cell_type": "code",
      "metadata": {
        "trusted": true,
        "id": "rGZRmlxrbguY"
      },
      "source": [
        "best_params = study.best_trial.params\n",
        "best_params['tree_method'] = 'gpu_hist'\n",
        "best_params['objective'] = 'binary:logistic'\n",
        "best_params['missing'] = -999\n",
        "best_params['random_state'] = 2020"
      ],
      "execution_count": 63,
      "outputs": []
    },
    {
      "cell_type": "code",
      "metadata": {
        "trusted": true,
        "colab": {
          "base_uri": "https://localhost:8080/"
        },
        "id": "1SYp4rVGbguY",
        "outputId": "5b8b83be-8466-4d5d-a305-c508994be2bf"
      },
      "source": [
        "clf = xgb.XGBClassifier(**best_params)\n",
        "%time clf.fit(xs_transform, y)"
      ],
      "execution_count": 64,
      "outputs": [
        {
          "output_type": "stream",
          "text": [
            "CPU times: user 1min 50s, sys: 28 s, total: 2min 18s\n",
            "Wall time: 2min 18s\n"
          ],
          "name": "stdout"
        },
        {
          "output_type": "execute_result",
          "data": {
            "text/plain": [
              "XGBClassifier(base_score=0.5, booster='gbtree', colsample_bylevel=1,\n",
              "              colsample_bynode=1, colsample_bytree=0.5041951234556589, gamma=0,\n",
              "              learning_rate=0.05316590799747048, max_delta_step=0, max_depth=20,\n",
              "              min_child_weight=1, missing=-999, n_estimators=432, n_jobs=1,\n",
              "              nthread=None, objective='binary:logistic', random_state=2020,\n",
              "              reg_alpha=0, reg_lambda=1, scale_pos_weight=1, seed=None,\n",
              "              silent=None, subsample=0.6030339348493646, tree_method='gpu_hist',\n",
              "              verbosity=1)"
            ]
          },
          "metadata": {
            "tags": []
          },
          "execution_count": 64
        }
      ]
    },
    {
      "cell_type": "code",
      "metadata": {
        "trusted": true,
        "colab": {
          "base_uri": "https://localhost:8080/",
          "height": 542
        },
        "id": "0Sb3zxeTbguY",
        "outputId": "739de698-b898-4747-c4a6-324f15b1ca60"
      },
      "source": [
        "fig = optuna.visualization.plot_optimization_history(study)\n",
        "fig.show()"
      ],
      "execution_count": 65,
      "outputs": [
        {
          "output_type": "display_data",
          "data": {
            "text/html": [
              "<html>\n",
              "<head><meta charset=\"utf-8\" /></head>\n",
              "<body>\n",
              "    <div>\n",
              "            <script src=\"https://cdnjs.cloudflare.com/ajax/libs/mathjax/2.7.5/MathJax.js?config=TeX-AMS-MML_SVG\"></script><script type=\"text/javascript\">if (window.MathJax) {MathJax.Hub.Config({SVG: {font: \"STIX-Web\"}});}</script>\n",
              "                <script type=\"text/javascript\">window.PlotlyConfig = {MathJaxConfig: 'local'};</script>\n",
              "        <script src=\"https://cdn.plot.ly/plotly-latest.min.js\"></script>    \n",
              "            <div id=\"e213dc06-30db-45c2-8c4a-cdfd25067d71\" class=\"plotly-graph-div\" style=\"height:525px; width:100%;\"></div>\n",
              "            <script type=\"text/javascript\">\n",
              "                \n",
              "                    window.PLOTLYENV=window.PLOTLYENV || {};\n",
              "                    \n",
              "                if (document.getElementById(\"e213dc06-30db-45c2-8c4a-cdfd25067d71\")) {\n",
              "                    Plotly.newPlot(\n",
              "                        'e213dc06-30db-45c2-8c4a-cdfd25067d71',\n",
              "                        [{\"mode\": \"markers\", \"name\": \"Objective Value\", \"type\": \"scatter\", \"x\": [0, 1, 2, 3, 4, 5, 6, 7, 8, 9, 10, 11, 12, 13, 14], \"y\": [0.712852825821385, 0.7280267472513341, 0.7388285218285862, 0.7240403780621102, 0.7266122291519321, 0.7390214106603228, 0.7400501510962515, 0.7307914871728927, 0.7435221500675111, 0.7300199318459462, 0.7226258599627081, 0.7253263036070211, 0.7247476371118112, 0.7284768211920529, 0.7336848196489423]}, {\"name\": \"Best Value\", \"type\": \"scatter\", \"x\": [0, 1, 2, 3, 4, 5, 6, 7, 8, 9, 10, 11, 12, 13, 14], \"y\": [0.712852825821385, 0.712852825821385, 0.712852825821385, 0.712852825821385, 0.712852825821385, 0.712852825821385, 0.712852825821385, 0.712852825821385, 0.712852825821385, 0.712852825821385, 0.712852825821385, 0.712852825821385, 0.712852825821385, 0.712852825821385, 0.712852825821385]}],\n",
              "                        {\"template\": {\"data\": {\"bar\": [{\"error_x\": {\"color\": \"#2a3f5f\"}, \"error_y\": {\"color\": \"#2a3f5f\"}, \"marker\": {\"line\": {\"color\": \"#E5ECF6\", \"width\": 0.5}}, \"type\": \"bar\"}], \"barpolar\": [{\"marker\": {\"line\": {\"color\": \"#E5ECF6\", \"width\": 0.5}}, \"type\": \"barpolar\"}], \"carpet\": [{\"aaxis\": {\"endlinecolor\": \"#2a3f5f\", \"gridcolor\": \"white\", \"linecolor\": \"white\", \"minorgridcolor\": \"white\", \"startlinecolor\": \"#2a3f5f\"}, \"baxis\": {\"endlinecolor\": \"#2a3f5f\", \"gridcolor\": \"white\", \"linecolor\": \"white\", \"minorgridcolor\": \"white\", \"startlinecolor\": \"#2a3f5f\"}, \"type\": \"carpet\"}], \"choropleth\": [{\"colorbar\": {\"outlinewidth\": 0, \"ticks\": \"\"}, \"type\": \"choropleth\"}], \"contour\": [{\"colorbar\": {\"outlinewidth\": 0, \"ticks\": \"\"}, \"colorscale\": [[0.0, \"#0d0887\"], [0.1111111111111111, \"#46039f\"], [0.2222222222222222, \"#7201a8\"], [0.3333333333333333, \"#9c179e\"], [0.4444444444444444, \"#bd3786\"], [0.5555555555555556, \"#d8576b\"], [0.6666666666666666, \"#ed7953\"], [0.7777777777777778, \"#fb9f3a\"], [0.8888888888888888, \"#fdca26\"], [1.0, \"#f0f921\"]], \"type\": \"contour\"}], \"contourcarpet\": [{\"colorbar\": {\"outlinewidth\": 0, \"ticks\": \"\"}, \"type\": \"contourcarpet\"}], \"heatmap\": [{\"colorbar\": {\"outlinewidth\": 0, \"ticks\": \"\"}, \"colorscale\": [[0.0, \"#0d0887\"], [0.1111111111111111, \"#46039f\"], [0.2222222222222222, \"#7201a8\"], [0.3333333333333333, \"#9c179e\"], [0.4444444444444444, \"#bd3786\"], [0.5555555555555556, \"#d8576b\"], [0.6666666666666666, \"#ed7953\"], [0.7777777777777778, \"#fb9f3a\"], [0.8888888888888888, \"#fdca26\"], [1.0, \"#f0f921\"]], \"type\": \"heatmap\"}], \"heatmapgl\": [{\"colorbar\": {\"outlinewidth\": 0, \"ticks\": \"\"}, \"colorscale\": [[0.0, \"#0d0887\"], [0.1111111111111111, \"#46039f\"], [0.2222222222222222, \"#7201a8\"], [0.3333333333333333, \"#9c179e\"], [0.4444444444444444, \"#bd3786\"], [0.5555555555555556, \"#d8576b\"], [0.6666666666666666, \"#ed7953\"], [0.7777777777777778, \"#fb9f3a\"], [0.8888888888888888, \"#fdca26\"], [1.0, \"#f0f921\"]], \"type\": \"heatmapgl\"}], \"histogram\": [{\"marker\": {\"colorbar\": {\"outlinewidth\": 0, \"ticks\": \"\"}}, \"type\": \"histogram\"}], \"histogram2d\": [{\"colorbar\": {\"outlinewidth\": 0, \"ticks\": \"\"}, \"colorscale\": [[0.0, \"#0d0887\"], [0.1111111111111111, \"#46039f\"], [0.2222222222222222, \"#7201a8\"], [0.3333333333333333, \"#9c179e\"], [0.4444444444444444, \"#bd3786\"], [0.5555555555555556, \"#d8576b\"], [0.6666666666666666, \"#ed7953\"], [0.7777777777777778, \"#fb9f3a\"], [0.8888888888888888, \"#fdca26\"], [1.0, \"#f0f921\"]], \"type\": \"histogram2d\"}], \"histogram2dcontour\": [{\"colorbar\": {\"outlinewidth\": 0, \"ticks\": \"\"}, \"colorscale\": [[0.0, \"#0d0887\"], [0.1111111111111111, \"#46039f\"], [0.2222222222222222, \"#7201a8\"], [0.3333333333333333, \"#9c179e\"], [0.4444444444444444, \"#bd3786\"], [0.5555555555555556, \"#d8576b\"], [0.6666666666666666, \"#ed7953\"], [0.7777777777777778, \"#fb9f3a\"], [0.8888888888888888, \"#fdca26\"], [1.0, \"#f0f921\"]], \"type\": \"histogram2dcontour\"}], \"mesh3d\": [{\"colorbar\": {\"outlinewidth\": 0, \"ticks\": \"\"}, \"type\": \"mesh3d\"}], \"parcoords\": [{\"line\": {\"colorbar\": {\"outlinewidth\": 0, \"ticks\": \"\"}}, \"type\": \"parcoords\"}], \"pie\": [{\"automargin\": true, \"type\": \"pie\"}], \"scatter\": [{\"marker\": {\"colorbar\": {\"outlinewidth\": 0, \"ticks\": \"\"}}, \"type\": \"scatter\"}], \"scatter3d\": [{\"line\": {\"colorbar\": {\"outlinewidth\": 0, \"ticks\": \"\"}}, \"marker\": {\"colorbar\": {\"outlinewidth\": 0, \"ticks\": \"\"}}, \"type\": \"scatter3d\"}], \"scattercarpet\": [{\"marker\": {\"colorbar\": {\"outlinewidth\": 0, \"ticks\": \"\"}}, \"type\": \"scattercarpet\"}], \"scattergeo\": [{\"marker\": {\"colorbar\": {\"outlinewidth\": 0, \"ticks\": \"\"}}, \"type\": \"scattergeo\"}], \"scattergl\": [{\"marker\": {\"colorbar\": {\"outlinewidth\": 0, \"ticks\": \"\"}}, \"type\": \"scattergl\"}], \"scattermapbox\": [{\"marker\": {\"colorbar\": {\"outlinewidth\": 0, \"ticks\": \"\"}}, \"type\": \"scattermapbox\"}], \"scatterpolar\": [{\"marker\": {\"colorbar\": {\"outlinewidth\": 0, \"ticks\": \"\"}}, \"type\": \"scatterpolar\"}], \"scatterpolargl\": [{\"marker\": {\"colorbar\": {\"outlinewidth\": 0, \"ticks\": \"\"}}, \"type\": \"scatterpolargl\"}], \"scatterternary\": [{\"marker\": {\"colorbar\": {\"outlinewidth\": 0, \"ticks\": \"\"}}, \"type\": \"scatterternary\"}], \"surface\": [{\"colorbar\": {\"outlinewidth\": 0, \"ticks\": \"\"}, \"colorscale\": [[0.0, \"#0d0887\"], [0.1111111111111111, \"#46039f\"], [0.2222222222222222, \"#7201a8\"], [0.3333333333333333, \"#9c179e\"], [0.4444444444444444, \"#bd3786\"], [0.5555555555555556, \"#d8576b\"], [0.6666666666666666, \"#ed7953\"], [0.7777777777777778, \"#fb9f3a\"], [0.8888888888888888, \"#fdca26\"], [1.0, \"#f0f921\"]], \"type\": \"surface\"}], \"table\": [{\"cells\": {\"fill\": {\"color\": \"#EBF0F8\"}, \"line\": {\"color\": \"white\"}}, \"header\": {\"fill\": {\"color\": \"#C8D4E3\"}, \"line\": {\"color\": \"white\"}}, \"type\": \"table\"}]}, \"layout\": {\"annotationdefaults\": {\"arrowcolor\": \"#2a3f5f\", \"arrowhead\": 0, \"arrowwidth\": 1}, \"coloraxis\": {\"colorbar\": {\"outlinewidth\": 0, \"ticks\": \"\"}}, \"colorscale\": {\"diverging\": [[0, \"#8e0152\"], [0.1, \"#c51b7d\"], [0.2, \"#de77ae\"], [0.3, \"#f1b6da\"], [0.4, \"#fde0ef\"], [0.5, \"#f7f7f7\"], [0.6, \"#e6f5d0\"], [0.7, \"#b8e186\"], [0.8, \"#7fbc41\"], [0.9, \"#4d9221\"], [1, \"#276419\"]], \"sequential\": [[0.0, \"#0d0887\"], [0.1111111111111111, \"#46039f\"], [0.2222222222222222, \"#7201a8\"], [0.3333333333333333, \"#9c179e\"], [0.4444444444444444, \"#bd3786\"], [0.5555555555555556, \"#d8576b\"], [0.6666666666666666, \"#ed7953\"], [0.7777777777777778, \"#fb9f3a\"], [0.8888888888888888, \"#fdca26\"], [1.0, \"#f0f921\"]], \"sequentialminus\": [[0.0, \"#0d0887\"], [0.1111111111111111, \"#46039f\"], [0.2222222222222222, \"#7201a8\"], [0.3333333333333333, \"#9c179e\"], [0.4444444444444444, \"#bd3786\"], [0.5555555555555556, \"#d8576b\"], [0.6666666666666666, \"#ed7953\"], [0.7777777777777778, \"#fb9f3a\"], [0.8888888888888888, \"#fdca26\"], [1.0, \"#f0f921\"]]}, \"colorway\": [\"#636efa\", \"#EF553B\", \"#00cc96\", \"#ab63fa\", \"#FFA15A\", \"#19d3f3\", \"#FF6692\", \"#B6E880\", \"#FF97FF\", \"#FECB52\"], \"font\": {\"color\": \"#2a3f5f\"}, \"geo\": {\"bgcolor\": \"white\", \"lakecolor\": \"white\", \"landcolor\": \"#E5ECF6\", \"showlakes\": true, \"showland\": true, \"subunitcolor\": \"white\"}, \"hoverlabel\": {\"align\": \"left\"}, \"hovermode\": \"closest\", \"mapbox\": {\"style\": \"light\"}, \"paper_bgcolor\": \"white\", \"plot_bgcolor\": \"#E5ECF6\", \"polar\": {\"angularaxis\": {\"gridcolor\": \"white\", \"linecolor\": \"white\", \"ticks\": \"\"}, \"bgcolor\": \"#E5ECF6\", \"radialaxis\": {\"gridcolor\": \"white\", \"linecolor\": \"white\", \"ticks\": \"\"}}, \"scene\": {\"xaxis\": {\"backgroundcolor\": \"#E5ECF6\", \"gridcolor\": \"white\", \"gridwidth\": 2, \"linecolor\": \"white\", \"showbackground\": true, \"ticks\": \"\", \"zerolinecolor\": \"white\"}, \"yaxis\": {\"backgroundcolor\": \"#E5ECF6\", \"gridcolor\": \"white\", \"gridwidth\": 2, \"linecolor\": \"white\", \"showbackground\": true, \"ticks\": \"\", \"zerolinecolor\": \"white\"}, \"zaxis\": {\"backgroundcolor\": \"#E5ECF6\", \"gridcolor\": \"white\", \"gridwidth\": 2, \"linecolor\": \"white\", \"showbackground\": true, \"ticks\": \"\", \"zerolinecolor\": \"white\"}}, \"shapedefaults\": {\"line\": {\"color\": \"#2a3f5f\"}}, \"ternary\": {\"aaxis\": {\"gridcolor\": \"white\", \"linecolor\": \"white\", \"ticks\": \"\"}, \"baxis\": {\"gridcolor\": \"white\", \"linecolor\": \"white\", \"ticks\": \"\"}, \"bgcolor\": \"#E5ECF6\", \"caxis\": {\"gridcolor\": \"white\", \"linecolor\": \"white\", \"ticks\": \"\"}}, \"title\": {\"x\": 0.05}, \"xaxis\": {\"automargin\": true, \"gridcolor\": \"white\", \"linecolor\": \"white\", \"ticks\": \"\", \"title\": {\"standoff\": 15}, \"zerolinecolor\": \"white\", \"zerolinewidth\": 2}, \"yaxis\": {\"automargin\": true, \"gridcolor\": \"white\", \"linecolor\": \"white\", \"ticks\": \"\", \"title\": {\"standoff\": 15}, \"zerolinecolor\": \"white\", \"zerolinewidth\": 2}}}, \"title\": {\"text\": \"Optimization History Plot\"}, \"xaxis\": {\"title\": {\"text\": \"#Trials\"}}, \"yaxis\": {\"title\": {\"text\": \"Objective Value\"}}},\n",
              "                        {\"responsive\": true}\n",
              "                    ).then(function(){\n",
              "                            \n",
              "var gd = document.getElementById('e213dc06-30db-45c2-8c4a-cdfd25067d71');\n",
              "var x = new MutationObserver(function (mutations, observer) {{\n",
              "        var display = window.getComputedStyle(gd).display;\n",
              "        if (!display || display === 'none') {{\n",
              "            console.log([gd, 'removed!']);\n",
              "            Plotly.purge(gd);\n",
              "            observer.disconnect();\n",
              "        }}\n",
              "}});\n",
              "\n",
              "// Listen for the removal of the full notebook cells\n",
              "var notebookContainer = gd.closest('#notebook-container');\n",
              "if (notebookContainer) {{\n",
              "    x.observe(notebookContainer, {childList: true});\n",
              "}}\n",
              "\n",
              "// Listen for the clearing of the current output cell\n",
              "var outputEl = gd.closest('.output');\n",
              "if (outputEl) {{\n",
              "    x.observe(outputEl, {childList: true});\n",
              "}}\n",
              "\n",
              "                        })\n",
              "                };\n",
              "                \n",
              "            </script>\n",
              "        </div>\n",
              "</body>\n",
              "</html>"
            ]
          },
          "metadata": {
            "tags": []
          }
        }
      ]
    },
    {
      "cell_type": "code",
      "metadata": {
        "trusted": true,
        "colab": {
          "base_uri": "https://localhost:8080/",
          "height": 542
        },
        "id": "nD_hil9nbguY",
        "outputId": "1c8ba90f-0547-4fe9-a3dc-7f65c78ad240"
      },
      "source": [
        "fig = optuna.visualization.plot_param_importances(study)\n",
        "fig.show()"
      ],
      "execution_count": 66,
      "outputs": [
        {
          "output_type": "display_data",
          "data": {
            "text/html": [
              "<html>\n",
              "<head><meta charset=\"utf-8\" /></head>\n",
              "<body>\n",
              "    <div>\n",
              "            <script src=\"https://cdnjs.cloudflare.com/ajax/libs/mathjax/2.7.5/MathJax.js?config=TeX-AMS-MML_SVG\"></script><script type=\"text/javascript\">if (window.MathJax) {MathJax.Hub.Config({SVG: {font: \"STIX-Web\"}});}</script>\n",
              "                <script type=\"text/javascript\">window.PlotlyConfig = {MathJaxConfig: 'local'};</script>\n",
              "        <script src=\"https://cdn.plot.ly/plotly-latest.min.js\"></script>    \n",
              "            <div id=\"5b32b94c-85d6-4aff-b218-7937d823be56\" class=\"plotly-graph-div\" style=\"height:525px; width:100%;\"></div>\n",
              "            <script type=\"text/javascript\">\n",
              "                \n",
              "                    window.PLOTLYENV=window.PLOTLYENV || {};\n",
              "                    \n",
              "                if (document.getElementById(\"5b32b94c-85d6-4aff-b218-7937d823be56\")) {\n",
              "                    Plotly.newPlot(\n",
              "                        '5b32b94c-85d6-4aff-b218-7937d823be56',\n",
              "                        [{\"cliponaxis\": false, \"hovertemplate\": [\"colsample_bytree (UniformDistribution): 0.03154290746524552<extra></extra>\", \"n_estimators (IntUniformDistribution): 0.03557739363357017<extra></extra>\", \"subsample (UniformDistribution): 0.04027376187538036<extra></extra>\", \"learning_rate (UniformDistribution): 0.04354146386000715<extra></extra>\", \"gamma (IntUniformDistribution): 0.05647957602101574<extra></extra>\", \"max_depth (IntUniformDistribution): 0.7925848971447811<extra></extra>\"], \"marker\": {\"color\": [\"rgb(8,48,107)\", \"rgb(8,81,156)\", \"rgb(8,48,107)\", \"rgb(8,48,107)\", \"rgb(8,81,156)\", \"rgb(8,81,156)\"]}, \"orientation\": \"h\", \"text\": [\"0.03154290746524552\", \"0.03557739363357017\", \"0.04027376187538036\", \"0.04354146386000715\", \"0.05647957602101574\", \"0.7925848971447811\"], \"textposition\": \"outside\", \"texttemplate\": \"%{text:.2f}\", \"type\": \"bar\", \"x\": [0.03154290746524552, 0.03557739363357017, 0.04027376187538036, 0.04354146386000715, 0.05647957602101574, 0.7925848971447811], \"y\": [\"colsample_bytree\", \"n_estimators\", \"subsample\", \"learning_rate\", \"gamma\", \"max_depth\"]}],\n",
              "                        {\"showlegend\": false, \"template\": {\"data\": {\"bar\": [{\"error_x\": {\"color\": \"#2a3f5f\"}, \"error_y\": {\"color\": \"#2a3f5f\"}, \"marker\": {\"line\": {\"color\": \"#E5ECF6\", \"width\": 0.5}}, \"type\": \"bar\"}], \"barpolar\": [{\"marker\": {\"line\": {\"color\": \"#E5ECF6\", \"width\": 0.5}}, \"type\": \"barpolar\"}], \"carpet\": [{\"aaxis\": {\"endlinecolor\": \"#2a3f5f\", \"gridcolor\": \"white\", \"linecolor\": \"white\", \"minorgridcolor\": \"white\", \"startlinecolor\": \"#2a3f5f\"}, \"baxis\": {\"endlinecolor\": \"#2a3f5f\", \"gridcolor\": \"white\", \"linecolor\": \"white\", \"minorgridcolor\": \"white\", \"startlinecolor\": \"#2a3f5f\"}, \"type\": \"carpet\"}], \"choropleth\": [{\"colorbar\": {\"outlinewidth\": 0, \"ticks\": \"\"}, \"type\": \"choropleth\"}], \"contour\": [{\"colorbar\": {\"outlinewidth\": 0, \"ticks\": \"\"}, \"colorscale\": [[0.0, \"#0d0887\"], [0.1111111111111111, \"#46039f\"], [0.2222222222222222, \"#7201a8\"], [0.3333333333333333, \"#9c179e\"], [0.4444444444444444, \"#bd3786\"], [0.5555555555555556, \"#d8576b\"], [0.6666666666666666, \"#ed7953\"], [0.7777777777777778, \"#fb9f3a\"], [0.8888888888888888, \"#fdca26\"], [1.0, \"#f0f921\"]], \"type\": \"contour\"}], \"contourcarpet\": [{\"colorbar\": {\"outlinewidth\": 0, \"ticks\": \"\"}, \"type\": \"contourcarpet\"}], \"heatmap\": [{\"colorbar\": {\"outlinewidth\": 0, \"ticks\": \"\"}, \"colorscale\": [[0.0, \"#0d0887\"], [0.1111111111111111, \"#46039f\"], [0.2222222222222222, \"#7201a8\"], [0.3333333333333333, \"#9c179e\"], [0.4444444444444444, \"#bd3786\"], [0.5555555555555556, \"#d8576b\"], [0.6666666666666666, \"#ed7953\"], [0.7777777777777778, \"#fb9f3a\"], [0.8888888888888888, \"#fdca26\"], [1.0, \"#f0f921\"]], \"type\": \"heatmap\"}], \"heatmapgl\": [{\"colorbar\": {\"outlinewidth\": 0, \"ticks\": \"\"}, \"colorscale\": [[0.0, \"#0d0887\"], [0.1111111111111111, \"#46039f\"], [0.2222222222222222, \"#7201a8\"], [0.3333333333333333, \"#9c179e\"], [0.4444444444444444, \"#bd3786\"], [0.5555555555555556, \"#d8576b\"], [0.6666666666666666, \"#ed7953\"], [0.7777777777777778, \"#fb9f3a\"], [0.8888888888888888, \"#fdca26\"], [1.0, \"#f0f921\"]], \"type\": \"heatmapgl\"}], \"histogram\": [{\"marker\": {\"colorbar\": {\"outlinewidth\": 0, \"ticks\": \"\"}}, \"type\": \"histogram\"}], \"histogram2d\": [{\"colorbar\": {\"outlinewidth\": 0, \"ticks\": \"\"}, \"colorscale\": [[0.0, \"#0d0887\"], [0.1111111111111111, \"#46039f\"], [0.2222222222222222, \"#7201a8\"], [0.3333333333333333, \"#9c179e\"], [0.4444444444444444, \"#bd3786\"], [0.5555555555555556, \"#d8576b\"], [0.6666666666666666, \"#ed7953\"], [0.7777777777777778, \"#fb9f3a\"], [0.8888888888888888, \"#fdca26\"], [1.0, \"#f0f921\"]], \"type\": \"histogram2d\"}], \"histogram2dcontour\": [{\"colorbar\": {\"outlinewidth\": 0, \"ticks\": \"\"}, \"colorscale\": [[0.0, \"#0d0887\"], [0.1111111111111111, \"#46039f\"], [0.2222222222222222, \"#7201a8\"], [0.3333333333333333, \"#9c179e\"], [0.4444444444444444, \"#bd3786\"], [0.5555555555555556, \"#d8576b\"], [0.6666666666666666, \"#ed7953\"], [0.7777777777777778, \"#fb9f3a\"], [0.8888888888888888, \"#fdca26\"], [1.0, \"#f0f921\"]], \"type\": \"histogram2dcontour\"}], \"mesh3d\": [{\"colorbar\": {\"outlinewidth\": 0, \"ticks\": \"\"}, \"type\": \"mesh3d\"}], \"parcoords\": [{\"line\": {\"colorbar\": {\"outlinewidth\": 0, \"ticks\": \"\"}}, \"type\": \"parcoords\"}], \"pie\": [{\"automargin\": true, \"type\": \"pie\"}], \"scatter\": [{\"marker\": {\"colorbar\": {\"outlinewidth\": 0, \"ticks\": \"\"}}, \"type\": \"scatter\"}], \"scatter3d\": [{\"line\": {\"colorbar\": {\"outlinewidth\": 0, \"ticks\": \"\"}}, \"marker\": {\"colorbar\": {\"outlinewidth\": 0, \"ticks\": \"\"}}, \"type\": \"scatter3d\"}], \"scattercarpet\": [{\"marker\": {\"colorbar\": {\"outlinewidth\": 0, \"ticks\": \"\"}}, \"type\": \"scattercarpet\"}], \"scattergeo\": [{\"marker\": {\"colorbar\": {\"outlinewidth\": 0, \"ticks\": \"\"}}, \"type\": \"scattergeo\"}], \"scattergl\": [{\"marker\": {\"colorbar\": {\"outlinewidth\": 0, \"ticks\": \"\"}}, \"type\": \"scattergl\"}], \"scattermapbox\": [{\"marker\": {\"colorbar\": {\"outlinewidth\": 0, \"ticks\": \"\"}}, \"type\": \"scattermapbox\"}], \"scatterpolar\": [{\"marker\": {\"colorbar\": {\"outlinewidth\": 0, \"ticks\": \"\"}}, \"type\": \"scatterpolar\"}], \"scatterpolargl\": [{\"marker\": {\"colorbar\": {\"outlinewidth\": 0, \"ticks\": \"\"}}, \"type\": \"scatterpolargl\"}], \"scatterternary\": [{\"marker\": {\"colorbar\": {\"outlinewidth\": 0, \"ticks\": \"\"}}, \"type\": \"scatterternary\"}], \"surface\": [{\"colorbar\": {\"outlinewidth\": 0, \"ticks\": \"\"}, \"colorscale\": [[0.0, \"#0d0887\"], [0.1111111111111111, \"#46039f\"], [0.2222222222222222, \"#7201a8\"], [0.3333333333333333, \"#9c179e\"], [0.4444444444444444, \"#bd3786\"], [0.5555555555555556, \"#d8576b\"], [0.6666666666666666, \"#ed7953\"], [0.7777777777777778, \"#fb9f3a\"], [0.8888888888888888, \"#fdca26\"], [1.0, \"#f0f921\"]], \"type\": \"surface\"}], \"table\": [{\"cells\": {\"fill\": {\"color\": \"#EBF0F8\"}, \"line\": {\"color\": \"white\"}}, \"header\": {\"fill\": {\"color\": \"#C8D4E3\"}, \"line\": {\"color\": \"white\"}}, \"type\": \"table\"}]}, \"layout\": {\"annotationdefaults\": {\"arrowcolor\": \"#2a3f5f\", \"arrowhead\": 0, \"arrowwidth\": 1}, \"coloraxis\": {\"colorbar\": {\"outlinewidth\": 0, \"ticks\": \"\"}}, \"colorscale\": {\"diverging\": [[0, \"#8e0152\"], [0.1, \"#c51b7d\"], [0.2, \"#de77ae\"], [0.3, \"#f1b6da\"], [0.4, \"#fde0ef\"], [0.5, \"#f7f7f7\"], [0.6, \"#e6f5d0\"], [0.7, \"#b8e186\"], [0.8, \"#7fbc41\"], [0.9, \"#4d9221\"], [1, \"#276419\"]], \"sequential\": [[0.0, \"#0d0887\"], [0.1111111111111111, \"#46039f\"], [0.2222222222222222, \"#7201a8\"], [0.3333333333333333, \"#9c179e\"], [0.4444444444444444, \"#bd3786\"], [0.5555555555555556, \"#d8576b\"], [0.6666666666666666, \"#ed7953\"], [0.7777777777777778, \"#fb9f3a\"], [0.8888888888888888, \"#fdca26\"], [1.0, \"#f0f921\"]], \"sequentialminus\": [[0.0, \"#0d0887\"], [0.1111111111111111, \"#46039f\"], [0.2222222222222222, \"#7201a8\"], [0.3333333333333333, \"#9c179e\"], [0.4444444444444444, \"#bd3786\"], [0.5555555555555556, \"#d8576b\"], [0.6666666666666666, \"#ed7953\"], [0.7777777777777778, \"#fb9f3a\"], [0.8888888888888888, \"#fdca26\"], [1.0, \"#f0f921\"]]}, \"colorway\": [\"#636efa\", \"#EF553B\", \"#00cc96\", \"#ab63fa\", \"#FFA15A\", \"#19d3f3\", \"#FF6692\", \"#B6E880\", \"#FF97FF\", \"#FECB52\"], \"font\": {\"color\": \"#2a3f5f\"}, \"geo\": {\"bgcolor\": \"white\", \"lakecolor\": \"white\", \"landcolor\": \"#E5ECF6\", \"showlakes\": true, \"showland\": true, \"subunitcolor\": \"white\"}, \"hoverlabel\": {\"align\": \"left\"}, \"hovermode\": \"closest\", \"mapbox\": {\"style\": \"light\"}, \"paper_bgcolor\": \"white\", \"plot_bgcolor\": \"#E5ECF6\", \"polar\": {\"angularaxis\": {\"gridcolor\": \"white\", \"linecolor\": \"white\", \"ticks\": \"\"}, \"bgcolor\": \"#E5ECF6\", \"radialaxis\": {\"gridcolor\": \"white\", \"linecolor\": \"white\", \"ticks\": \"\"}}, \"scene\": {\"xaxis\": {\"backgroundcolor\": \"#E5ECF6\", \"gridcolor\": \"white\", \"gridwidth\": 2, \"linecolor\": \"white\", \"showbackground\": true, \"ticks\": \"\", \"zerolinecolor\": \"white\"}, \"yaxis\": {\"backgroundcolor\": \"#E5ECF6\", \"gridcolor\": \"white\", \"gridwidth\": 2, \"linecolor\": \"white\", \"showbackground\": true, \"ticks\": \"\", \"zerolinecolor\": \"white\"}, \"zaxis\": {\"backgroundcolor\": \"#E5ECF6\", \"gridcolor\": \"white\", \"gridwidth\": 2, \"linecolor\": \"white\", \"showbackground\": true, \"ticks\": \"\", \"zerolinecolor\": \"white\"}}, \"shapedefaults\": {\"line\": {\"color\": \"#2a3f5f\"}}, \"ternary\": {\"aaxis\": {\"gridcolor\": \"white\", \"linecolor\": \"white\", \"ticks\": \"\"}, \"baxis\": {\"gridcolor\": \"white\", \"linecolor\": \"white\", \"ticks\": \"\"}, \"bgcolor\": \"#E5ECF6\", \"caxis\": {\"gridcolor\": \"white\", \"linecolor\": \"white\", \"ticks\": \"\"}}, \"title\": {\"x\": 0.05}, \"xaxis\": {\"automargin\": true, \"gridcolor\": \"white\", \"linecolor\": \"white\", \"ticks\": \"\", \"title\": {\"standoff\": 15}, \"zerolinecolor\": \"white\", \"zerolinewidth\": 2}, \"yaxis\": {\"automargin\": true, \"gridcolor\": \"white\", \"linecolor\": \"white\", \"ticks\": \"\", \"title\": {\"standoff\": 15}, \"zerolinecolor\": \"white\", \"zerolinewidth\": 2}}}, \"title\": {\"text\": \"Hyperparameter Importances\"}, \"xaxis\": {\"title\": {\"text\": \"Importance for Objective Value\"}}, \"yaxis\": {\"title\": {\"text\": \"Hyperparameter\"}}},\n",
              "                        {\"responsive\": true}\n",
              "                    ).then(function(){\n",
              "                            \n",
              "var gd = document.getElementById('5b32b94c-85d6-4aff-b218-7937d823be56');\n",
              "var x = new MutationObserver(function (mutations, observer) {{\n",
              "        var display = window.getComputedStyle(gd).display;\n",
              "        if (!display || display === 'none') {{\n",
              "            console.log([gd, 'removed!']);\n",
              "            Plotly.purge(gd);\n",
              "            observer.disconnect();\n",
              "        }}\n",
              "}});\n",
              "\n",
              "// Listen for the removal of the full notebook cells\n",
              "var notebookContainer = gd.closest('#notebook-container');\n",
              "if (notebookContainer) {{\n",
              "    x.observe(notebookContainer, {childList: true});\n",
              "}}\n",
              "\n",
              "// Listen for the clearing of the current output cell\n",
              "var outputEl = gd.closest('.output');\n",
              "if (outputEl) {{\n",
              "    x.observe(outputEl, {childList: true});\n",
              "}}\n",
              "\n",
              "                        })\n",
              "                };\n",
              "                \n",
              "            </script>\n",
              "        </div>\n",
              "</body>\n",
              "</html>"
            ]
          },
          "metadata": {
            "tags": []
          }
        }
      ]
    },
    {
      "cell_type": "code",
      "metadata": {
        "trusted": true,
        "colab": {
          "base_uri": "https://localhost:8080/"
        },
        "id": "G09yRy6qbguZ",
        "outputId": "c93b3f20-6d16-4ed3-fb02-f83d97ef63b2"
      },
      "source": [
        "m_accuracy(clf, xs_transform, y), m_accuracy(clf, valid_xs_transform, valid_y)"
      ],
      "execution_count": 67,
      "outputs": [
        {
          "output_type": "execute_result",
          "data": {
            "text/plain": [
              "(1.0, 0.7538738507040442)"
            ]
          },
          "metadata": {
            "tags": []
          },
          "execution_count": 67
        }
      ]
    },
    {
      "cell_type": "code",
      "metadata": {
        "trusted": true,
        "colab": {
          "base_uri": "https://localhost:8080/"
        },
        "id": "-WfOhAmdbguZ",
        "outputId": "06b4ae48-f99d-4b92-d6b6-3048562ac270"
      },
      "source": [
        "cm = confusion_matrix(valid_y,  clf.predict(valid_xs_transform))\n",
        "cm"
      ],
      "execution_count": 68,
      "outputs": [
        {
          "output_type": "execute_result",
          "data": {
            "text/plain": [
              "array([[5519, 2000],\n",
              "       [1828, 6206]])"
            ]
          },
          "metadata": {
            "tags": []
          },
          "execution_count": 68
        }
      ]
    },
    {
      "cell_type": "code",
      "metadata": {
        "trusted": true,
        "id": "Gca01fvybguZ"
      },
      "source": [
        "del dvalid, dtrain"
      ],
      "execution_count": 70,
      "outputs": []
    },
    {
      "cell_type": "markdown",
      "metadata": {
        "id": "V061KpzDY0O_"
      },
      "source": [
        "## kaggle Submission Method"
      ]
    },
    {
      "cell_type": "code",
      "metadata": {
        "id": "6kAFgj_mY71U"
      },
      "source": [
        "from tqdm import tqdm\r\n",
        "import janestreet\r\n",
        "env = janestreet.make_env() # initialize the environment\r\n",
        "iter_test = env.iter_test() # an ite-ator which loops over the test set"
      ],
      "execution_count": null,
      "outputs": []
    },
    {
      "cell_type": "code",
      "metadata": {
        "trusted": true,
        "id": "9F7mtrhibgub",
        "outputId": "27207d55-7f91-4793-f4f0-d192df840bc4"
      },
      "source": [
        "for (test_df, pred_df) in tqdm(iter_test):\n",
        "    wt = test_df.iloc[0].weight\n",
        "    if (wt == 0):\n",
        "        pred_df.action = 0\n",
        "    else:\n",
        "        test_df = augment_df(test_df, features_one)\n",
        "        #X_test = fill_nan(test_df).cuda()\n",
        "        X_test = fill_nan(test_df.values, feature_nn_test).cuda()\n",
        "        preds = learn.model(0, X_test).argmax(dim=1).detach().cpu().numpy()\n",
        "        test_df['feature_fastai'] = preds\n",
        "        pred_df.action = clf.predict(pca.transform(scalar.transform(\n",
        "            fillna_npwhere(test_df[features].values, df_median[features].values))), validate_features=False)\n",
        "    env.predict(pred_df)\n",
        "    "
      ],
      "execution_count": null,
      "outputs": [
        {
          "output_type": "stream",
          "text": [
            "15219it [49:10,  5.16it/s]\n"
          ],
          "name": "stderr"
        }
      ]
    },
    {
      "cell_type": "code",
      "metadata": {
        "trusted": true,
        "id": "SjCv6jrVbgub"
      },
      "source": [
        ""
      ],
      "execution_count": null,
      "outputs": []
    },
    {
      "cell_type": "markdown",
      "metadata": {
        "id": "E7oKPYxVY9Xb"
      },
      "source": [
        "## Conclusion\r\n",
        "\r\n",
        "As discussed earlier, I have not submitted yet due to some bugs in my submission pipeline above, and also exchausting my kaggle weekly GPU quota.\r\n",
        "Will do that next week. \r\n",
        "For now, I go back to algo and data structures and reading Jeremy's Book "
      ]
    },
    {
      "cell_type": "markdown",
      "metadata": {
        "id": "TLSjr8bccom-"
      },
      "source": [
        "\r\n",
        "## Reference:\r\n",
        "\r\n",
        "* https://www.kaggle.com/ahmedelhaddad/fastai-submission-custom-ds\r\n",
        "* Collaborative filtering tutorial. (https://docs.fast.ai/tutorial.collab)"
      ]
    },
    {
      "cell_type": "code",
      "metadata": {
        "id": "INnClHK9ZS3C"
      },
      "source": [
        ""
      ],
      "execution_count": null,
      "outputs": []
    }
  ]
}